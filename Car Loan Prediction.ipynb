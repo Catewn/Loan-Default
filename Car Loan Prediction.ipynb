{
 "cells": [
  {
   "cell_type": "code",
   "execution_count": 1,
   "id": "b7a851cc",
   "metadata": {},
   "outputs": [],
   "source": [
    "#Importing libraries\n",
    "\n",
    "import pandas as pd\n",
    "import matplotlib.pyplot as plt\n",
    "import numpy as np\n",
    "import seaborn as sns\n",
    "import warnings\n",
    "warnings.filterwarnings(\"ignore\")"
   ]
  },
  {
   "cell_type": "code",
   "execution_count": 2,
   "id": "c013539d",
   "metadata": {},
   "outputs": [],
   "source": [
    "#connecting to database\n",
    "import pyodbc \n",
    "\n",
    "conn = pyodbc.connect('Driver={SQL Server};'\n",
    "                      'Server=DESKTOP-MJC0RTJ;'\n",
    "                      'Database=PaceSetters;'\n",
    "                      'Trusted_Connection=yes;')\n",
    "\n",
    "#cursor = conn.cursor()\n",
    "#cursor.execute('SELECT * FROM car_loans')\n",
    "\n",
    "#converting data to a dataframe\n",
    "query = \"SELECT * FROM car_loans\"\n",
    "\n",
    "loan_df = pd.read_sql(query, conn)\n",
    "\n",
    "conn.close()"
   ]
  },
  {
   "cell_type": "markdown",
   "id": "61592ae5",
   "metadata": {},
   "source": [
    "# Loading and cleaning data"
   ]
  },
  {
   "cell_type": "code",
   "execution_count": 3,
   "id": "bfc708d9",
   "metadata": {},
   "outputs": [
    {
     "data": {
      "text/html": [
       "<div>\n",
       "<style scoped>\n",
       "    .dataframe tbody tr th:only-of-type {\n",
       "        vertical-align: middle;\n",
       "    }\n",
       "\n",
       "    .dataframe tbody tr th {\n",
       "        vertical-align: top;\n",
       "    }\n",
       "\n",
       "    .dataframe thead th {\n",
       "        text-align: right;\n",
       "    }\n",
       "</style>\n",
       "<table border=\"1\" class=\"dataframe\">\n",
       "  <thead>\n",
       "    <tr style=\"text-align: right;\">\n",
       "      <th></th>\n",
       "      <th>UNIQUEID</th>\n",
       "      <th>DISBURSED_AMOUNT</th>\n",
       "      <th>ASSET_COST</th>\n",
       "      <th>LTV</th>\n",
       "      <th>BRANCH_ID</th>\n",
       "      <th>SUPPLIER_ID</th>\n",
       "      <th>MANUFACTURER_ID</th>\n",
       "      <th>CURRENT_PINCODE_ID</th>\n",
       "      <th>DATE_OF_BIRTH</th>\n",
       "      <th>EMPLOYMENT_TYPE</th>\n",
       "      <th>...</th>\n",
       "      <th>SEC_SANCTIONED_AMOUNT</th>\n",
       "      <th>SEC_DISBURSED_AMOUNT</th>\n",
       "      <th>PRIMARY_INSTAL_AMT</th>\n",
       "      <th>SEC_INSTAL_AMT</th>\n",
       "      <th>NEW_ACCTS_IN_LAST_SIX_MONTHS</th>\n",
       "      <th>DELINQUENT_ACCTS_IN_LAST_SIX_MONTHS</th>\n",
       "      <th>AVERAGE_ACCT_AGE</th>\n",
       "      <th>CREDIT_HISTORY_LENGTH</th>\n",
       "      <th>NO_OF_INQUIRIES</th>\n",
       "      <th>LOAN_DEFAULT</th>\n",
       "    </tr>\n",
       "  </thead>\n",
       "  <tbody>\n",
       "    <tr>\n",
       "      <th>0</th>\n",
       "      <td>417428</td>\n",
       "      <td>55013</td>\n",
       "      <td>64080</td>\n",
       "      <td>88.169998</td>\n",
       "      <td>18</td>\n",
       "      <td>14234</td>\n",
       "      <td>86</td>\n",
       "      <td>2699</td>\n",
       "      <td>1965-10-05</td>\n",
       "      <td>Self employed</td>\n",
       "      <td>...</td>\n",
       "      <td>0</td>\n",
       "      <td>0</td>\n",
       "      <td>5571</td>\n",
       "      <td>0</td>\n",
       "      <td>1</td>\n",
       "      <td>0</td>\n",
       "      <td>0yrs 9mon</td>\n",
       "      <td>1yrs 0mon</td>\n",
       "      <td>0</td>\n",
       "      <td>0</td>\n",
       "    </tr>\n",
       "    <tr>\n",
       "      <th>1</th>\n",
       "      <td>417429</td>\n",
       "      <td>72567</td>\n",
       "      <td>88919</td>\n",
       "      <td>83.779999</td>\n",
       "      <td>13</td>\n",
       "      <td>18486</td>\n",
       "      <td>86</td>\n",
       "      <td>4608</td>\n",
       "      <td>1979-02-05</td>\n",
       "      <td>Salaried</td>\n",
       "      <td>...</td>\n",
       "      <td>0</td>\n",
       "      <td>0</td>\n",
       "      <td>160963</td>\n",
       "      <td>0</td>\n",
       "      <td>0</td>\n",
       "      <td>1</td>\n",
       "      <td>3yrs 0mon</td>\n",
       "      <td>3yrs 6mon</td>\n",
       "      <td>0</td>\n",
       "      <td>0</td>\n",
       "    </tr>\n",
       "    <tr>\n",
       "      <th>2</th>\n",
       "      <td>417430</td>\n",
       "      <td>49049</td>\n",
       "      <td>64217</td>\n",
       "      <td>77.389999</td>\n",
       "      <td>34</td>\n",
       "      <td>15196</td>\n",
       "      <td>86</td>\n",
       "      <td>1050</td>\n",
       "      <td>1982-03-10</td>\n",
       "      <td>Self employed</td>\n",
       "      <td>...</td>\n",
       "      <td>0</td>\n",
       "      <td>0</td>\n",
       "      <td>0</td>\n",
       "      <td>0</td>\n",
       "      <td>0</td>\n",
       "      <td>0</td>\n",
       "      <td>0yrs 0mon</td>\n",
       "      <td>0yrs 0mon</td>\n",
       "      <td>0</td>\n",
       "      <td>0</td>\n",
       "    </tr>\n",
       "    <tr>\n",
       "      <th>3</th>\n",
       "      <td>417431</td>\n",
       "      <td>53503</td>\n",
       "      <td>76245</td>\n",
       "      <td>72.139999</td>\n",
       "      <td>10</td>\n",
       "      <td>22842</td>\n",
       "      <td>86</td>\n",
       "      <td>5708</td>\n",
       "      <td>1987-01-01</td>\n",
       "      <td>Self employed</td>\n",
       "      <td>...</td>\n",
       "      <td>0</td>\n",
       "      <td>0</td>\n",
       "      <td>0</td>\n",
       "      <td>0</td>\n",
       "      <td>0</td>\n",
       "      <td>0</td>\n",
       "      <td>0yrs 0mon</td>\n",
       "      <td>0yrs 0mon</td>\n",
       "      <td>0</td>\n",
       "      <td>0</td>\n",
       "    </tr>\n",
       "    <tr>\n",
       "      <th>4</th>\n",
       "      <td>417432</td>\n",
       "      <td>55559</td>\n",
       "      <td>65524</td>\n",
       "      <td>85.919998</td>\n",
       "      <td>67</td>\n",
       "      <td>21308</td>\n",
       "      <td>86</td>\n",
       "      <td>1446</td>\n",
       "      <td>1990-06-02</td>\n",
       "      <td>Self employed</td>\n",
       "      <td>...</td>\n",
       "      <td>0</td>\n",
       "      <td>0</td>\n",
       "      <td>15028</td>\n",
       "      <td>0</td>\n",
       "      <td>3</td>\n",
       "      <td>2</td>\n",
       "      <td>1yrs 3mon</td>\n",
       "      <td>2yrs 11mon</td>\n",
       "      <td>0</td>\n",
       "      <td>0</td>\n",
       "    </tr>\n",
       "  </tbody>\n",
       "</table>\n",
       "<p>5 rows × 41 columns</p>\n",
       "</div>"
      ],
      "text/plain": [
       "   UNIQUEID  DISBURSED_AMOUNT  ASSET_COST        LTV  BRANCH_ID  SUPPLIER_ID  \\\n",
       "0    417428             55013       64080  88.169998         18        14234   \n",
       "1    417429             72567       88919  83.779999         13        18486   \n",
       "2    417430             49049       64217  77.389999         34        15196   \n",
       "3    417431             53503       76245  72.139999         10        22842   \n",
       "4    417432             55559       65524  85.919998         67        21308   \n",
       "\n",
       "   MANUFACTURER_ID  CURRENT_PINCODE_ID DATE_OF_BIRTH EMPLOYMENT_TYPE  ...  \\\n",
       "0               86                2699    1965-10-05   Self employed  ...   \n",
       "1               86                4608    1979-02-05        Salaried  ...   \n",
       "2               86                1050    1982-03-10   Self employed  ...   \n",
       "3               86                5708    1987-01-01   Self employed  ...   \n",
       "4               86                1446    1990-06-02   Self employed  ...   \n",
       "\n",
       "  SEC_SANCTIONED_AMOUNT  SEC_DISBURSED_AMOUNT  PRIMARY_INSTAL_AMT  \\\n",
       "0                     0                     0                5571   \n",
       "1                     0                     0              160963   \n",
       "2                     0                     0                   0   \n",
       "3                     0                     0                   0   \n",
       "4                     0                     0               15028   \n",
       "\n",
       "   SEC_INSTAL_AMT  NEW_ACCTS_IN_LAST_SIX_MONTHS  \\\n",
       "0               0                             1   \n",
       "1               0                             0   \n",
       "2               0                             0   \n",
       "3               0                             0   \n",
       "4               0                             3   \n",
       "\n",
       "   DELINQUENT_ACCTS_IN_LAST_SIX_MONTHS  AVERAGE_ACCT_AGE  \\\n",
       "0                                    0         0yrs 9mon   \n",
       "1                                    1         3yrs 0mon   \n",
       "2                                    0         0yrs 0mon   \n",
       "3                                    0         0yrs 0mon   \n",
       "4                                    2         1yrs 3mon   \n",
       "\n",
       "   CREDIT_HISTORY_LENGTH  NO_OF_INQUIRIES  LOAN_DEFAULT  \n",
       "0              1yrs 0mon                0             0  \n",
       "1              3yrs 6mon                0             0  \n",
       "2              0yrs 0mon                0             0  \n",
       "3              0yrs 0mon                0             0  \n",
       "4             2yrs 11mon                0             0  \n",
       "\n",
       "[5 rows x 41 columns]"
      ]
     },
     "execution_count": 3,
     "metadata": {},
     "output_type": "execute_result"
    }
   ],
   "source": [
    "#Feel of dataset \n",
    "\n",
    "loan_df.head()"
   ]
  },
  {
   "cell_type": "code",
   "execution_count": 4,
   "id": "0b075434",
   "metadata": {},
   "outputs": [
    {
     "data": {
      "text/plain": [
       "(233154, 41)"
      ]
     },
     "execution_count": 4,
     "metadata": {},
     "output_type": "execute_result"
    }
   ],
   "source": [
    "#Number of rows and columns\n",
    "\n",
    "loan_df.shape"
   ]
  },
  {
   "cell_type": "code",
   "execution_count": 5,
   "id": "98564cdb",
   "metadata": {},
   "outputs": [
    {
     "name": "stdout",
     "output_type": "stream",
     "text": [
      "<class 'pandas.core.frame.DataFrame'>\n",
      "RangeIndex: 233154 entries, 0 to 233153\n",
      "Data columns (total 41 columns):\n",
      " #   Column                               Non-Null Count   Dtype  \n",
      "---  ------                               --------------   -----  \n",
      " 0   UNIQUEID                             233154 non-null  int64  \n",
      " 1   DISBURSED_AMOUNT                     233154 non-null  int64  \n",
      " 2   ASSET_COST                           233154 non-null  int64  \n",
      " 3   LTV                                  233154 non-null  float64\n",
      " 4   BRANCH_ID                            233154 non-null  int64  \n",
      " 5   SUPPLIER_ID                          233154 non-null  int64  \n",
      " 6   MANUFACTURER_ID                      233154 non-null  int64  \n",
      " 7   CURRENT_PINCODE_ID                   233154 non-null  int64  \n",
      " 8   DATE_OF_BIRTH                        233154 non-null  object \n",
      " 9   EMPLOYMENT_TYPE                      225493 non-null  object \n",
      " 10  DISBURSAL_DATE                       233154 non-null  object \n",
      " 11  STATE_ID                             233154 non-null  int64  \n",
      " 12  EMPLOYEE_CODE_ID                     233154 non-null  int64  \n",
      " 13  MOBILENO_AVL_FLAG                    233154 non-null  int64  \n",
      " 14  AADHAR_FLAG                          233154 non-null  bool   \n",
      " 15  PAN_FLAG                             233154 non-null  bool   \n",
      " 16  VOTERID_FLAG                         233154 non-null  bool   \n",
      " 17  DRIVING_FLAG                         233154 non-null  bool   \n",
      " 18  PASSPORT_FLAG                        233154 non-null  int64  \n",
      " 19  PERFORM_CNS_SCORE                    233154 non-null  int64  \n",
      " 20  PERFORM_CNS_SCORE_DESCRIPTION        233154 non-null  object \n",
      " 21  PRI_NO_OF_ACCTS                      233154 non-null  int64  \n",
      " 22  PRI_ACTIVE_ACCTS                     233154 non-null  int64  \n",
      " 23  PRI_OVERDUE_ACCTS                    233154 non-null  int64  \n",
      " 24  PRI_CURRENT_BALANCE                  233154 non-null  int64  \n",
      " 25  PRI_SANCTIONED_AMOUNT                233154 non-null  int64  \n",
      " 26  PRI_DISBURSED_AMOUNT                 233154 non-null  int64  \n",
      " 27  SEC_NO_OF_ACCTS                      233154 non-null  int64  \n",
      " 28  SEC_ACTIVE_ACCTS                     233154 non-null  int64  \n",
      " 29  SEC_OVERDUE_ACCTS                    233154 non-null  int64  \n",
      " 30  SEC_CURRENT_BALANCE                  233093 non-null  float64\n",
      " 31  SEC_SANCTIONED_AMOUNT                233154 non-null  int64  \n",
      " 32  SEC_DISBURSED_AMOUNT                 233154 non-null  int64  \n",
      " 33  PRIMARY_INSTAL_AMT                   233154 non-null  int64  \n",
      " 34  SEC_INSTAL_AMT                       233154 non-null  int64  \n",
      " 35  NEW_ACCTS_IN_LAST_SIX_MONTHS         233154 non-null  int64  \n",
      " 36  DELINQUENT_ACCTS_IN_LAST_SIX_MONTHS  233154 non-null  int64  \n",
      " 37  AVERAGE_ACCT_AGE                     233154 non-null  object \n",
      " 38  CREDIT_HISTORY_LENGTH                233154 non-null  object \n",
      " 39  NO_OF_INQUIRIES                      233154 non-null  int64  \n",
      " 40  LOAN_DEFAULT                         233154 non-null  int64  \n",
      "dtypes: bool(4), float64(2), int64(29), object(6)\n",
      "memory usage: 66.7+ MB\n"
     ]
    }
   ],
   "source": [
    "#Getting data types and feel of null columns\n",
    "\n",
    "loan_df.info()"
   ]
  },
  {
   "cell_type": "code",
   "execution_count": 6,
   "id": "146c4d35",
   "metadata": {},
   "outputs": [],
   "source": [
    "#To know the period loan covers, convert Disbursal date to datetime\n",
    "import datetime\n",
    "import warnings\n",
    "warnings.filterwarnings('ignore')\n",
    "loan_df['DISBURSAL_DATE'] = pd.to_datetime(loan_df['DISBURSAL_DATE'])"
   ]
  },
  {
   "cell_type": "code",
   "execution_count": 7,
   "id": "59589696",
   "metadata": {},
   "outputs": [
    {
     "name": "stdout",
     "output_type": "stream",
     "text": [
      "Maximum Disbursal Date:  2018-10-31 00:00:00\n",
      "Minium Disbursal Date:  2018-08-01 00:00:00\n"
     ]
    }
   ],
   "source": [
    "#Print Max and Min date to know period disbursal covers\n",
    "\n",
    "print(\"Maximum Disbursal Date: \", loan_df['DISBURSAL_DATE'].max())\n",
    "print(\"Minium Disbursal Date: \", loan_df['DISBURSAL_DATE'].min())"
   ]
  },
  {
   "cell_type": "code",
   "execution_count": 8,
   "id": "57dada2e",
   "metadata": {},
   "outputs": [
    {
     "data": {
      "text/plain": [
       "0    182543\n",
       "1     50611\n",
       "Name: LOAN_DEFAULT, dtype: int64"
      ]
     },
     "execution_count": 8,
     "metadata": {},
     "output_type": "execute_result"
    }
   ],
   "source": [
    "#Inspecting Loan_default column\n",
    "\n",
    "loan_df['LOAN_DEFAULT'].value_counts()"
   ]
  },
  {
   "cell_type": "code",
   "execution_count": 9,
   "id": "a8800dad",
   "metadata": {},
   "outputs": [
    {
     "data": {
      "text/plain": [
       "0    0.782929\n",
       "1    0.217071\n",
       "Name: LOAN_DEFAULT, dtype: float64"
      ]
     },
     "execution_count": 9,
     "metadata": {},
     "output_type": "execute_result"
    }
   ],
   "source": [
    "#Checking percentage\n",
    "\n",
    "loan_df['LOAN_DEFAULT'].value_counts(normalize=True)"
   ]
  },
  {
   "cell_type": "code",
   "execution_count": 10,
   "id": "e2f2b4e5",
   "metadata": {},
   "outputs": [
    {
     "data": {
      "image/png": "[encoded data removed]",
      "text/plain": [
       "<Figure size 432x288 with 1 Axes>"
      ]
     },
     "metadata": {
      "needs_background": "light"
     },
     "output_type": "display_data"
    }
   ],
   "source": [
    "#Visualizing same column\n",
    "\n",
    "sns.countplot(x=\"LOAN_DEFAULT\", data=loan_df)\n",
    "plt.show()"
   ]
  },
  {
   "cell_type": "code",
   "execution_count": 11,
   "id": "6501ef61",
   "metadata": {},
   "outputs": [
    {
     "data": {
      "text/plain": [
       "UNIQUEID                               False\n",
       "DISBURSED_AMOUNT                       False\n",
       "ASSET_COST                             False\n",
       "LTV                                    False\n",
       "BRANCH_ID                              False\n",
       "SUPPLIER_ID                            False\n",
       "MANUFACTURER_ID                        False\n",
       "CURRENT_PINCODE_ID                     False\n",
       "DATE_OF_BIRTH                          False\n",
       "EMPLOYMENT_TYPE                         True\n",
       "DISBURSAL_DATE                         False\n",
       "STATE_ID                               False\n",
       "EMPLOYEE_CODE_ID                       False\n",
       "MOBILENO_AVL_FLAG                      False\n",
       "AADHAR_FLAG                            False\n",
       "PAN_FLAG                               False\n",
       "VOTERID_FLAG                           False\n",
       "DRIVING_FLAG                           False\n",
       "PASSPORT_FLAG                          False\n",
       "PERFORM_CNS_SCORE                      False\n",
       "PERFORM_CNS_SCORE_DESCRIPTION          False\n",
       "PRI_NO_OF_ACCTS                        False\n",
       "PRI_ACTIVE_ACCTS                       False\n",
       "PRI_OVERDUE_ACCTS                      False\n",
       "PRI_CURRENT_BALANCE                    False\n",
       "PRI_SANCTIONED_AMOUNT                  False\n",
       "PRI_DISBURSED_AMOUNT                   False\n",
       "SEC_NO_OF_ACCTS                        False\n",
       "SEC_ACTIVE_ACCTS                       False\n",
       "SEC_OVERDUE_ACCTS                      False\n",
       "SEC_CURRENT_BALANCE                     True\n",
       "SEC_SANCTIONED_AMOUNT                  False\n",
       "SEC_DISBURSED_AMOUNT                   False\n",
       "PRIMARY_INSTAL_AMT                     False\n",
       "SEC_INSTAL_AMT                         False\n",
       "NEW_ACCTS_IN_LAST_SIX_MONTHS           False\n",
       "DELINQUENT_ACCTS_IN_LAST_SIX_MONTHS    False\n",
       "AVERAGE_ACCT_AGE                       False\n",
       "CREDIT_HISTORY_LENGTH                  False\n",
       "NO_OF_INQUIRIES                        False\n",
       "LOAN_DEFAULT                           False\n",
       "dtype: bool"
      ]
     },
     "execution_count": 11,
     "metadata": {},
     "output_type": "execute_result"
    }
   ],
   "source": [
    "#Checking if any column contains null rows\n",
    "\n",
    "#Found only Employment Type contains null rows\n",
    "\n",
    "loan_df.isnull().any()"
   ]
  },
  {
   "cell_type": "code",
   "execution_count": 12,
   "id": "53b50ebd",
   "metadata": {},
   "outputs": [
    {
     "data": {
      "text/plain": [
       "UNIQUEID                                  0\n",
       "DISBURSED_AMOUNT                          0\n",
       "ASSET_COST                                0\n",
       "LTV                                       0\n",
       "BRANCH_ID                                 0\n",
       "SUPPLIER_ID                               0\n",
       "MANUFACTURER_ID                           0\n",
       "CURRENT_PINCODE_ID                        0\n",
       "DATE_OF_BIRTH                             0\n",
       "EMPLOYMENT_TYPE                        7661\n",
       "DISBURSAL_DATE                            0\n",
       "STATE_ID                                  0\n",
       "EMPLOYEE_CODE_ID                          0\n",
       "MOBILENO_AVL_FLAG                         0\n",
       "AADHAR_FLAG                               0\n",
       "PAN_FLAG                                  0\n",
       "VOTERID_FLAG                              0\n",
       "DRIVING_FLAG                              0\n",
       "PASSPORT_FLAG                             0\n",
       "PERFORM_CNS_SCORE                         0\n",
       "PERFORM_CNS_SCORE_DESCRIPTION             0\n",
       "PRI_NO_OF_ACCTS                           0\n",
       "PRI_ACTIVE_ACCTS                          0\n",
       "PRI_OVERDUE_ACCTS                         0\n",
       "PRI_CURRENT_BALANCE                       0\n",
       "PRI_SANCTIONED_AMOUNT                     0\n",
       "PRI_DISBURSED_AMOUNT                      0\n",
       "SEC_NO_OF_ACCTS                           0\n",
       "SEC_ACTIVE_ACCTS                          0\n",
       "SEC_OVERDUE_ACCTS                         0\n",
       "SEC_CURRENT_BALANCE                      61\n",
       "SEC_SANCTIONED_AMOUNT                     0\n",
       "SEC_DISBURSED_AMOUNT                      0\n",
       "PRIMARY_INSTAL_AMT                        0\n",
       "SEC_INSTAL_AMT                            0\n",
       "NEW_ACCTS_IN_LAST_SIX_MONTHS              0\n",
       "DELINQUENT_ACCTS_IN_LAST_SIX_MONTHS       0\n",
       "AVERAGE_ACCT_AGE                          0\n",
       "CREDIT_HISTORY_LENGTH                     0\n",
       "NO_OF_INQUIRIES                           0\n",
       "LOAN_DEFAULT                              0\n",
       "dtype: int64"
      ]
     },
     "execution_count": 12,
     "metadata": {},
     "output_type": "execute_result"
    }
   ],
   "source": [
    "#Checking number of null rows in column\n",
    "\n",
    "loan_df.isnull().sum()"
   ]
  },
  {
   "cell_type": "code",
   "execution_count": 13,
   "id": "d4e66ce5",
   "metadata": {},
   "outputs": [
    {
     "name": "stdout",
     "output_type": "stream",
     "text": [
      "Self employed    127635\n",
      "Salaried          97858\n",
      "Name: EMPLOYMENT_TYPE, dtype: int64\n"
     ]
    },
    {
     "data": {
      "image/png": "[encoded data removed]",
      "text/plain": [
       "<Figure size 432x288 with 1 Axes>"
      ]
     },
     "metadata": {
      "needs_background": "light"
     },
     "output_type": "display_data"
    }
   ],
   "source": [
    "#Exploring and visualizing content of EMPLOYMENT_TYPE\n",
    "\n",
    "print(loan_df['EMPLOYMENT_TYPE'].value_counts())\n",
    "sns.countplot(x=\"EMPLOYMENT_TYPE\", data=loan_df)\n",
    "plt.show()"
   ]
  },
  {
   "cell_type": "code",
   "execution_count": 14,
   "id": "fed907b0",
   "metadata": {},
   "outputs": [],
   "source": [
    "#Filing null rows with \"Missing\"\n",
    "\n",
    "loan_df = loan_df.fillna(value={'EMPLOYMENT_TYPE' : 'Missing'})"
   ]
  },
  {
   "cell_type": "code",
   "execution_count": 15,
   "id": "9db1615d",
   "metadata": {},
   "outputs": [
    {
     "name": "stdout",
     "output_type": "stream",
     "text": [
      "Self employed    127635\n",
      "Salaried          97858\n",
      "Missing            7661\n",
      "Name: EMPLOYMENT_TYPE, dtype: int64\n"
     ]
    },
    {
     "data": {
      "image/png": "[encoded data removed]",
      "text/plain": [
       "<Figure size 432x288 with 1 Axes>"
      ]
     },
     "metadata": {
      "needs_background": "light"
     },
     "output_type": "display_data"
    }
   ],
   "source": [
    "#Visualizing column after filling null\n",
    "\n",
    "print(loan_df['EMPLOYMENT_TYPE'].value_counts())\n",
    "sns.countplot(x=\"EMPLOYMENT_TYPE\", data=loan_df)\n",
    "plt.show()"
   ]
  },
  {
   "cell_type": "code",
   "execution_count": 16,
   "id": "8cf00238",
   "metadata": {},
   "outputs": [],
   "source": [
    "#Handling missing values from SEC_CURRENT_BALANCE\n",
    "loan_df['SEC_CURRENT_BALANCE'] = loan_df['SEC_CURRENT_BALANCE'].fillna(0)"
   ]
  },
  {
   "cell_type": "code",
   "execution_count": 17,
   "id": "e25a2cb6",
   "metadata": {},
   "outputs": [
    {
     "data": {
      "text/html": [
       "<div>\n",
       "<style scoped>\n",
       "    .dataframe tbody tr th:only-of-type {\n",
       "        vertical-align: middle;\n",
       "    }\n",
       "\n",
       "    .dataframe tbody tr th {\n",
       "        vertical-align: top;\n",
       "    }\n",
       "\n",
       "    .dataframe thead th {\n",
       "        text-align: right;\n",
       "    }\n",
       "</style>\n",
       "<table border=\"1\" class=\"dataframe\">\n",
       "  <thead>\n",
       "    <tr style=\"text-align: right;\">\n",
       "      <th></th>\n",
       "      <th>DISBURSAL_DATE</th>\n",
       "      <th>DATE_OF_BIRTH</th>\n",
       "    </tr>\n",
       "  </thead>\n",
       "  <tbody>\n",
       "    <tr>\n",
       "      <th>185526</th>\n",
       "      <td>2018-10-23</td>\n",
       "      <td>1989-11-23</td>\n",
       "    </tr>\n",
       "    <tr>\n",
       "      <th>49360</th>\n",
       "      <td>2018-08-28</td>\n",
       "      <td>1992-02-26</td>\n",
       "    </tr>\n",
       "    <tr>\n",
       "      <th>205080</th>\n",
       "      <td>2018-10-26</td>\n",
       "      <td>1981-01-01</td>\n",
       "    </tr>\n",
       "    <tr>\n",
       "      <th>79293</th>\n",
       "      <td>2018-09-10</td>\n",
       "      <td>1996-12-03</td>\n",
       "    </tr>\n",
       "    <tr>\n",
       "      <th>11357</th>\n",
       "      <td>2018-08-09</td>\n",
       "      <td>1970-05-17</td>\n",
       "    </tr>\n",
       "    <tr>\n",
       "      <th>42803</th>\n",
       "      <td>2018-08-24</td>\n",
       "      <td>1984-09-05</td>\n",
       "    </tr>\n",
       "    <tr>\n",
       "      <th>70520</th>\n",
       "      <td>2018-09-04</td>\n",
       "      <td>1982-01-01</td>\n",
       "    </tr>\n",
       "    <tr>\n",
       "      <th>138816</th>\n",
       "      <td>2018-10-05</td>\n",
       "      <td>1997-01-01</td>\n",
       "    </tr>\n",
       "    <tr>\n",
       "      <th>181024</th>\n",
       "      <td>2018-10-22</td>\n",
       "      <td>1988-10-18</td>\n",
       "    </tr>\n",
       "    <tr>\n",
       "      <th>8426</th>\n",
       "      <td>2018-08-07</td>\n",
       "      <td>1968-08-28</td>\n",
       "    </tr>\n",
       "  </tbody>\n",
       "</table>\n",
       "</div>"
      ],
      "text/plain": [
       "       DISBURSAL_DATE DATE_OF_BIRTH\n",
       "185526     2018-10-23    1989-11-23\n",
       "49360      2018-08-28    1992-02-26\n",
       "205080     2018-10-26    1981-01-01\n",
       "79293      2018-09-10    1996-12-03\n",
       "11357      2018-08-09    1970-05-17\n",
       "42803      2018-08-24    1984-09-05\n",
       "70520      2018-09-04    1982-01-01\n",
       "138816     2018-10-05    1997-01-01\n",
       "181024     2018-10-22    1988-10-18\n",
       "8426       2018-08-07    1968-08-28"
      ]
     },
     "execution_count": 17,
     "metadata": {},
     "output_type": "execute_result"
    }
   ],
   "source": [
    "#Inspecting 'DISBURSAL_DATE', 'DATE_OF_BIRTH'\n",
    "\n",
    "loan_df[['DISBURSAL_DATE', 'DATE_OF_BIRTH']].sample(10)"
   ]
  },
  {
   "cell_type": "code",
   "execution_count": 18,
   "id": "c128c216",
   "metadata": {},
   "outputs": [
    {
     "name": "stdout",
     "output_type": "stream",
     "text": [
      "       DATE_OF_BIRTH  AGE DISBURSAL_DATE\n",
      "14390     1983-01-01   35     2018-08-11\n",
      "190017    1976-10-21   42     2018-10-24\n",
      "55472     1963-03-01   55     2018-08-29\n",
      "96619     1987-11-06   30     2018-09-18\n",
      "28223     1972-01-01   46     2018-08-18\n"
     ]
    }
   ],
   "source": [
    "#Converting 'DISBURSAL_DATE', 'DATE_OF_BIRTH' to datetime type format and calculating ages of customers as at date \n",
    "#of disbursement\n",
    "\n",
    "loan_df['DATE_OF_BIRTH'] = pd.to_datetime(loan_df['DATE_OF_BIRTH'])\n",
    "loan_df['DISBURSAL_DATE'] = pd.to_datetime(loan_df['DISBURSAL_DATE'])\n",
    "\n",
    "#calculate their age at time of disbursal\n",
    "loan_df['AGE'] = loan_df['DISBURSAL_DATE'] - loan_df['DATE_OF_BIRTH']\n",
    "loan_df['AGE'] = loan_df['AGE'] // np.timedelta64(1, 'Y')\n",
    "\n",
    "#Inspect the results\n",
    "print(loan_df[['DATE_OF_BIRTH', 'AGE', 'DISBURSAL_DATE']].sample(n=5))"
   ]
  },
  {
   "cell_type": "code",
   "execution_count": 19,
   "id": "4e3d0460",
   "metadata": {},
   "outputs": [
    {
     "data": {
      "text/plain": [
       "10    98364\n",
       "8     68002\n",
       "9     66788\n",
       "Name: DISBURSAL_MONTH, dtype: int64"
      ]
     },
     "execution_count": 19,
     "metadata": {},
     "output_type": "execute_result"
    }
   ],
   "source": [
    "#Extracting date from 'DISBURSAL_DATE' to see if there is a trend with months in terms of default, days may be too\n",
    "#dispersed and may not give meaningful insight\n",
    "\n",
    "loan_df['DISBURSAL_MONTH'] = loan_df['DISBURSAL_DATE'].dt.month\n",
    "loan_df['DISBURSAL_MONTH'].value_counts()"
   ]
  },
  {
   "cell_type": "code",
   "execution_count": 20,
   "id": "e0bb4b94",
   "metadata": {},
   "outputs": [],
   "source": [
    "#Drop 'DISBURSAL_DATE', 'DATE_OF_BIRTH' since we have age and disbursal month column\n",
    "\n",
    "loan_df = loan_df.drop(['DISBURSAL_DATE', 'DATE_OF_BIRTH'], axis=1)"
   ]
  },
  {
   "cell_type": "code",
   "execution_count": 21,
   "id": "f76bf05a",
   "metadata": {},
   "outputs": [
    {
     "data": {
      "text/html": [
       "<div>\n",
       "<style scoped>\n",
       "    .dataframe tbody tr th:only-of-type {\n",
       "        vertical-align: middle;\n",
       "    }\n",
       "\n",
       "    .dataframe tbody tr th {\n",
       "        vertical-align: top;\n",
       "    }\n",
       "\n",
       "    .dataframe thead th {\n",
       "        text-align: right;\n",
       "    }\n",
       "</style>\n",
       "<table border=\"1\" class=\"dataframe\">\n",
       "  <thead>\n",
       "    <tr style=\"text-align: right;\">\n",
       "      <th></th>\n",
       "      <th>CREDIT_HISTORY_LENGTH</th>\n",
       "      <th>AVERAGE_ACCT_AGE</th>\n",
       "    </tr>\n",
       "  </thead>\n",
       "  <tbody>\n",
       "    <tr>\n",
       "      <th>2770</th>\n",
       "      <td>0yrs 0mon</td>\n",
       "      <td>0yrs 0mon</td>\n",
       "    </tr>\n",
       "    <tr>\n",
       "      <th>41641</th>\n",
       "      <td>2yrs 6mon</td>\n",
       "      <td>2yrs 6mon</td>\n",
       "    </tr>\n",
       "    <tr>\n",
       "      <th>90451</th>\n",
       "      <td>0yrs 0mon</td>\n",
       "      <td>0yrs 0mon</td>\n",
       "    </tr>\n",
       "    <tr>\n",
       "      <th>146698</th>\n",
       "      <td>5yrs 3mon</td>\n",
       "      <td>1yrs 5mon</td>\n",
       "    </tr>\n",
       "    <tr>\n",
       "      <th>32513</th>\n",
       "      <td>1yrs 7mon</td>\n",
       "      <td>0yrs 9mon</td>\n",
       "    </tr>\n",
       "    <tr>\n",
       "      <th>105534</th>\n",
       "      <td>0yrs 6mon</td>\n",
       "      <td>0yrs 4mon</td>\n",
       "    </tr>\n",
       "    <tr>\n",
       "      <th>26765</th>\n",
       "      <td>0yrs 0mon</td>\n",
       "      <td>0yrs 0mon</td>\n",
       "    </tr>\n",
       "    <tr>\n",
       "      <th>199766</th>\n",
       "      <td>2yrs 2mon</td>\n",
       "      <td>1yrs 2mon</td>\n",
       "    </tr>\n",
       "    <tr>\n",
       "      <th>56987</th>\n",
       "      <td>0yrs 0mon</td>\n",
       "      <td>0yrs 0mon</td>\n",
       "    </tr>\n",
       "    <tr>\n",
       "      <th>204839</th>\n",
       "      <td>0yrs 0mon</td>\n",
       "      <td>0yrs 0mon</td>\n",
       "    </tr>\n",
       "  </tbody>\n",
       "</table>\n",
       "</div>"
      ],
      "text/plain": [
       "       CREDIT_HISTORY_LENGTH AVERAGE_ACCT_AGE\n",
       "2770               0yrs 0mon        0yrs 0mon\n",
       "41641              2yrs 6mon        2yrs 6mon\n",
       "90451              0yrs 0mon        0yrs 0mon\n",
       "146698             5yrs 3mon        1yrs 5mon\n",
       "32513              1yrs 7mon        0yrs 9mon\n",
       "105534             0yrs 6mon        0yrs 4mon\n",
       "26765              0yrs 0mon        0yrs 0mon\n",
       "199766             2yrs 2mon        1yrs 2mon\n",
       "56987              0yrs 0mon        0yrs 0mon\n",
       "204839             0yrs 0mon        0yrs 0mon"
      ]
     },
     "execution_count": 21,
     "metadata": {},
     "output_type": "execute_result"
    }
   ],
   "source": [
    "#Inspecting 'CREDIT_HISTORY_LENGTH', 'AVERAGE_ACCT_AGE' column\n",
    "\n",
    "loan_df[['CREDIT_HISTORY_LENGTH', 'AVERAGE_ACCT_AGE']].sample(n=10)"
   ]
  },
  {
   "cell_type": "code",
   "execution_count": 22,
   "id": "f55f4134",
   "metadata": {},
   "outputs": [],
   "source": [
    "#Create funtion to calculate month from extracted figures in 'CREDIT_HISTORY_LENGTH', 'AVERAGE_ACCT_AGE'\n",
    "\n",
    "def calc_months(str_list):  \n",
    "    years = int(str_list[0])\n",
    "    months = int(str_list[1])\n",
    "\n",
    "    num_months = (years * 12) + months\n",
    "    return num_months"
   ]
  },
  {
   "cell_type": "code",
   "execution_count": 23,
   "id": "1b62c6aa",
   "metadata": {},
   "outputs": [
    {
     "name": "stdout",
     "output_type": "stream",
     "text": [
      "193635    [0, 0]\n",
      "105627    [0, 0]\n",
      "79551     [1, 5]\n",
      "167014    [0, 0]\n",
      "144542    [2, 7]\n",
      "69300     [0, 8]\n",
      "4844      [3, 0]\n",
      "136779    [0, 0]\n",
      "57370     [1, 9]\n",
      "42898     [0, 8]\n",
      "Name: AVERAGE_ACCT_AGE_MONTHS, dtype: object\n"
     ]
    }
   ],
   "source": [
    "#Extracting numbers from text in 'CREDIT_HISTORY_LENGTH', 'AVERAGE_ACCT_AGE'\n",
    "\n",
    "loan_df['AVERAGE_ACCT_AGE_MONTHS'] = loan_df['AVERAGE_ACCT_AGE'].str.findall('\\d+')\n",
    "print(loan_df['AVERAGE_ACCT_AGE_MONTHS'].sample(n=10))"
   ]
  },
  {
   "cell_type": "code",
   "execution_count": 24,
   "id": "6172b79c",
   "metadata": {},
   "outputs": [],
   "source": [
    "#Applying calc_month function on 'AVERAGE_ACCT_AGE_MONTHS'\n",
    "\n",
    "loan_df['AVERAGE_ACCT_AGE_MONTHS'] = loan_df['AVERAGE_ACCT_AGE_MONTHS'].map(calc_months)"
   ]
  },
  {
   "cell_type": "code",
   "execution_count": 25,
   "id": "a80002e1",
   "metadata": {},
   "outputs": [
    {
     "name": "stdout",
     "output_type": "stream",
     "text": [
      "        AVERAGE_ACCT_AGE_MONTHS AVERAGE_ACCT_AGE\n",
      "55803                         0        0yrs 0mon\n",
      "12155                         0        0yrs 0mon\n",
      "90850                         0        0yrs 0mon\n",
      "200229                       68        5yrs 8mon\n",
      "153390                        8        0yrs 8mon\n",
      "150144                        4        0yrs 4mon\n",
      "87040                         0        0yrs 0mon\n",
      "90656                        18        1yrs 6mon\n",
      "87822                        13        1yrs 1mon\n",
      "84907                         7        0yrs 7mon\n"
     ]
    }
   ],
   "source": [
    "#Testing with 10 samples\n",
    "\n",
    "print(loan_df[['AVERAGE_ACCT_AGE_MONTHS', 'AVERAGE_ACCT_AGE']].sample(n=10))"
   ]
  },
  {
   "cell_type": "code",
   "execution_count": 26,
   "id": "b587bb9b",
   "metadata": {},
   "outputs": [],
   "source": [
    "#Creating function to create new column, extract and calc months\n",
    "\n",
    "def convert_str_to_months(col_name):\n",
    "    new_col = col_name + '_MONTHS'\n",
    "    loan_df[new_col] = loan_df[col_name].str.findall('\\d+')\n",
    "    loan_df[new_col] = loan_df[new_col].map(calc_months)\n"
   ]
  },
  {
   "cell_type": "code",
   "execution_count": 27,
   "id": "8b1857c7",
   "metadata": {},
   "outputs": [
    {
     "data": {
      "text/html": [
       "<div>\n",
       "<style scoped>\n",
       "    .dataframe tbody tr th:only-of-type {\n",
       "        vertical-align: middle;\n",
       "    }\n",
       "\n",
       "    .dataframe tbody tr th {\n",
       "        vertical-align: top;\n",
       "    }\n",
       "\n",
       "    .dataframe thead th {\n",
       "        text-align: right;\n",
       "    }\n",
       "</style>\n",
       "<table border=\"1\" class=\"dataframe\">\n",
       "  <thead>\n",
       "    <tr style=\"text-align: right;\">\n",
       "      <th></th>\n",
       "      <th>CREDIT_HISTORY_LENGTH_MONTHS</th>\n",
       "      <th>CREDIT_HISTORY_LENGTH</th>\n",
       "    </tr>\n",
       "  </thead>\n",
       "  <tbody>\n",
       "    <tr>\n",
       "      <th>111324</th>\n",
       "      <td>12</td>\n",
       "      <td>1yrs 0mon</td>\n",
       "    </tr>\n",
       "    <tr>\n",
       "      <th>220077</th>\n",
       "      <td>0</td>\n",
       "      <td>0yrs 0mon</td>\n",
       "    </tr>\n",
       "    <tr>\n",
       "      <th>191011</th>\n",
       "      <td>0</td>\n",
       "      <td>0yrs 0mon</td>\n",
       "    </tr>\n",
       "    <tr>\n",
       "      <th>92579</th>\n",
       "      <td>45</td>\n",
       "      <td>3yrs 9mon</td>\n",
       "    </tr>\n",
       "    <tr>\n",
       "      <th>101227</th>\n",
       "      <td>0</td>\n",
       "      <td>0yrs 0mon</td>\n",
       "    </tr>\n",
       "  </tbody>\n",
       "</table>\n",
       "</div>"
      ],
      "text/plain": [
       "        CREDIT_HISTORY_LENGTH_MONTHS CREDIT_HISTORY_LENGTH\n",
       "111324                            12             1yrs 0mon\n",
       "220077                             0             0yrs 0mon\n",
       "191011                             0             0yrs 0mon\n",
       "92579                             45             3yrs 9mon\n",
       "101227                             0             0yrs 0mon"
      ]
     },
     "execution_count": 27,
     "metadata": {},
     "output_type": "execute_result"
    }
   ],
   "source": [
    "#Using convert_str_to_months on CREDIT_HISTORY_LENGTH\n",
    "\n",
    "convert_str_to_months('CREDIT_HISTORY_LENGTH')\n",
    "loan_df[['CREDIT_HISTORY_LENGTH_MONTHS', 'CREDIT_HISTORY_LENGTH']].sample(n=5)"
   ]
  },
  {
   "cell_type": "code",
   "execution_count": 28,
   "id": "f70d1eef",
   "metadata": {},
   "outputs": [],
   "source": [
    "#Dropping 'AVERAGE_ACCT_AGE', 'CREDIT_HISTORY_LENGTH' since months are already extracted\n",
    "\n",
    "loan_df = loan_df.drop(['AVERAGE_ACCT_AGE', 'CREDIT_HISTORY_LENGTH'], axis=1)"
   ]
  },
  {
   "cell_type": "markdown",
   "id": "9a16c93c",
   "metadata": {},
   "source": [
    "# Exploratory Data Analysis"
   ]
  },
  {
   "cell_type": "code",
   "execution_count": 29,
   "id": "1d6c7a6e",
   "metadata": {},
   "outputs": [
    {
     "data": {
      "text/plain": [
       "UNIQUEID                               233154\n",
       "DISBURSED_AMOUNT                        24565\n",
       "ASSET_COST                              46252\n",
       "LTV                                      6579\n",
       "BRANCH_ID                                  82\n",
       "SUPPLIER_ID                              2953\n",
       "MANUFACTURER_ID                            11\n",
       "CURRENT_PINCODE_ID                       6698\n",
       "EMPLOYMENT_TYPE                             3\n",
       "STATE_ID                                   22\n",
       "EMPLOYEE_CODE_ID                         3270\n",
       "MOBILENO_AVL_FLAG                           1\n",
       "AADHAR_FLAG                                 2\n",
       "PAN_FLAG                                    2\n",
       "VOTERID_FLAG                                2\n",
       "DRIVING_FLAG                                2\n",
       "PASSPORT_FLAG                               2\n",
       "PERFORM_CNS_SCORE                         573\n",
       "PERFORM_CNS_SCORE_DESCRIPTION              20\n",
       "PRI_NO_OF_ACCTS                           108\n",
       "PRI_ACTIVE_ACCTS                           40\n",
       "PRI_OVERDUE_ACCTS                          22\n",
       "PRI_CURRENT_BALANCE                     71341\n",
       "PRI_SANCTIONED_AMOUNT                   44390\n",
       "PRI_DISBURSED_AMOUNT                    47909\n",
       "SEC_NO_OF_ACCTS                            37\n",
       "SEC_ACTIVE_ACCTS                           23\n",
       "SEC_OVERDUE_ACCTS                           9\n",
       "SEC_CURRENT_BALANCE                      3190\n",
       "SEC_SANCTIONED_AMOUNT                    2223\n",
       "SEC_DISBURSED_AMOUNT                     2553\n",
       "PRIMARY_INSTAL_AMT                      28067\n",
       "SEC_INSTAL_AMT                           1918\n",
       "NEW_ACCTS_IN_LAST_SIX_MONTHS               26\n",
       "DELINQUENT_ACCTS_IN_LAST_SIX_MONTHS        14\n",
       "NO_OF_INQUIRIES                            25\n",
       "LOAN_DEFAULT                                2\n",
       "AGE                                        48\n",
       "DISBURSAL_MONTH                             3\n",
       "AVERAGE_ACCT_AGE_MONTHS                   192\n",
       "CREDIT_HISTORY_LENGTH_MONTHS              294\n",
       "dtype: int64"
      ]
     },
     "execution_count": 29,
     "metadata": {},
     "output_type": "execute_result"
    }
   ],
   "source": [
    "#Checking unique values\n",
    "#MOBILE_AVL_FLAG has only one unique value\n",
    "\n",
    "loan_df.nunique()"
   ]
  },
  {
   "cell_type": "code",
   "execution_count": 30,
   "id": "a2de69cd",
   "metadata": {},
   "outputs": [
    {
     "data": {
      "text/plain": [
       "1    233154\n",
       "Name: MOBILENO_AVL_FLAG, dtype: int64"
      ]
     },
     "execution_count": 30,
     "metadata": {},
     "output_type": "execute_result"
    }
   ],
   "source": [
    "#Inspecting MOBILENO_AVL_FLAG\n",
    "\n",
    "loan_df['MOBILENO_AVL_FLAG'].value_counts()"
   ]
  },
  {
   "cell_type": "code",
   "execution_count": 31,
   "id": "71fb13b3",
   "metadata": {},
   "outputs": [],
   "source": [
    "#A column with single record has no predictive value, so we drop\n",
    "loan_df = loan_df.drop(['MOBILENO_AVL_FLAG'], axis = 1)"
   ]
  },
  {
   "cell_type": "code",
   "execution_count": 32,
   "id": "32a4296a",
   "metadata": {},
   "outputs": [
    {
     "data": {
      "text/html": [
       "<div>\n",
       "<style scoped>\n",
       "    .dataframe tbody tr th:only-of-type {\n",
       "        vertical-align: middle;\n",
       "    }\n",
       "\n",
       "    .dataframe tbody tr th {\n",
       "        vertical-align: top;\n",
       "    }\n",
       "\n",
       "    .dataframe thead th {\n",
       "        text-align: right;\n",
       "    }\n",
       "</style>\n",
       "<table border=\"1\" class=\"dataframe\">\n",
       "  <thead>\n",
       "    <tr style=\"text-align: right;\">\n",
       "      <th></th>\n",
       "      <th>SUPPLIER_ID</th>\n",
       "      <th>CURRENT_PINCODE_ID</th>\n",
       "      <th>EMPLOYEE_CODE_ID</th>\n",
       "      <th>BRANCH_ID</th>\n",
       "      <th>STATE_ID</th>\n",
       "      <th>MANUFACTURER_ID</th>\n",
       "    </tr>\n",
       "  </thead>\n",
       "  <tbody>\n",
       "    <tr>\n",
       "      <th>185854</th>\n",
       "      <td>16555</td>\n",
       "      <td>1863</td>\n",
       "      <td>2628</td>\n",
       "      <td>19</td>\n",
       "      <td>4</td>\n",
       "      <td>51</td>\n",
       "    </tr>\n",
       "    <tr>\n",
       "      <th>15749</th>\n",
       "      <td>21043</td>\n",
       "      <td>3617</td>\n",
       "      <td>2549</td>\n",
       "      <td>121</td>\n",
       "      <td>9</td>\n",
       "      <td>86</td>\n",
       "    </tr>\n",
       "    <tr>\n",
       "      <th>179413</th>\n",
       "      <td>16679</td>\n",
       "      <td>5360</td>\n",
       "      <td>279</td>\n",
       "      <td>42</td>\n",
       "      <td>3</td>\n",
       "      <td>51</td>\n",
       "    </tr>\n",
       "    <tr>\n",
       "      <th>172270</th>\n",
       "      <td>21013</td>\n",
       "      <td>7125</td>\n",
       "      <td>1674</td>\n",
       "      <td>104</td>\n",
       "      <td>10</td>\n",
       "      <td>86</td>\n",
       "    </tr>\n",
       "    <tr>\n",
       "      <th>113543</th>\n",
       "      <td>21911</td>\n",
       "      <td>1368</td>\n",
       "      <td>1008</td>\n",
       "      <td>61</td>\n",
       "      <td>6</td>\n",
       "      <td>86</td>\n",
       "    </tr>\n",
       "    <tr>\n",
       "      <th>180879</th>\n",
       "      <td>23341</td>\n",
       "      <td>2712</td>\n",
       "      <td>1077</td>\n",
       "      <td>18</td>\n",
       "      <td>4</td>\n",
       "      <td>45</td>\n",
       "    </tr>\n",
       "    <tr>\n",
       "      <th>112857</th>\n",
       "      <td>21305</td>\n",
       "      <td>40</td>\n",
       "      <td>712</td>\n",
       "      <td>3</td>\n",
       "      <td>1</td>\n",
       "      <td>86</td>\n",
       "    </tr>\n",
       "    <tr>\n",
       "      <th>38186</th>\n",
       "      <td>17224</td>\n",
       "      <td>2789</td>\n",
       "      <td>242</td>\n",
       "      <td>147</td>\n",
       "      <td>2</td>\n",
       "      <td>45</td>\n",
       "    </tr>\n",
       "    <tr>\n",
       "      <th>196594</th>\n",
       "      <td>22736</td>\n",
       "      <td>6398</td>\n",
       "      <td>2223</td>\n",
       "      <td>48</td>\n",
       "      <td>5</td>\n",
       "      <td>49</td>\n",
       "    </tr>\n",
       "    <tr>\n",
       "      <th>142943</th>\n",
       "      <td>18703</td>\n",
       "      <td>6215</td>\n",
       "      <td>1178</td>\n",
       "      <td>20</td>\n",
       "      <td>5</td>\n",
       "      <td>86</td>\n",
       "    </tr>\n",
       "  </tbody>\n",
       "</table>\n",
       "</div>"
      ],
      "text/plain": [
       "        SUPPLIER_ID  CURRENT_PINCODE_ID  EMPLOYEE_CODE_ID  BRANCH_ID  \\\n",
       "185854        16555                1863              2628         19   \n",
       "15749         21043                3617              2549        121   \n",
       "179413        16679                5360               279         42   \n",
       "172270        21013                7125              1674        104   \n",
       "113543        21911                1368              1008         61   \n",
       "180879        23341                2712              1077         18   \n",
       "112857        21305                  40               712          3   \n",
       "38186         17224                2789               242        147   \n",
       "196594        22736                6398              2223         48   \n",
       "142943        18703                6215              1178         20   \n",
       "\n",
       "        STATE_ID  MANUFACTURER_ID  \n",
       "185854         4               51  \n",
       "15749          9               86  \n",
       "179413         3               51  \n",
       "172270        10               86  \n",
       "113543         6               86  \n",
       "180879         4               45  \n",
       "112857         1               86  \n",
       "38186          2               45  \n",
       "196594         5               49  \n",
       "142943         5               86  "
      ]
     },
     "execution_count": 32,
     "metadata": {},
     "output_type": "execute_result"
    }
   ],
   "source": [
    "#Inspecting all columns with _ID\n",
    "\n",
    "loan_df[['SUPPLIER_ID', 'CURRENT_PINCODE_ID', 'EMPLOYEE_CODE_ID', 'BRANCH_ID', 'STATE_ID', 'MANUFACTURER_ID']].sample(10)"
   ]
  },
  {
   "cell_type": "code",
   "execution_count": 33,
   "id": "d82be00d",
   "metadata": {},
   "outputs": [],
   "source": [
    "#they contain categorical, underordered information\n",
    "#Id fields with large numbers of unique values will introduce complexity into our predictive model\n",
    "#We decided to drop them from the dataset\n",
    "\n",
    "loan_df = loan_df.drop(['SUPPLIER_ID', 'CURRENT_PINCODE_ID', 'EMPLOYEE_CODE_ID', 'BRANCH_ID'], axis=1)"
   ]
  },
  {
   "cell_type": "code",
   "execution_count": 34,
   "id": "71c536b1",
   "metadata": {},
   "outputs": [
    {
     "name": "stdout",
     "output_type": "stream",
     "text": [
      "86     109534\n",
      "45      56626\n",
      "51      27204\n",
      "48      16710\n",
      "49      10220\n",
      "120      9658\n",
      "67       2405\n",
      "145       778\n",
      "153        12\n",
      "152         6\n",
      "156         1\n",
      "Name: MANUFACTURER_ID, dtype: int64\n",
      "86     0.469792\n",
      "45     0.242870\n",
      "51     0.116678\n",
      "48     0.071669\n",
      "49     0.043834\n",
      "120    0.041423\n",
      "67     0.010315\n",
      "145    0.003337\n",
      "153    0.000051\n",
      "152    0.000026\n",
      "156    0.000004\n",
      "Name: MANUFACTURER_ID, dtype: float64\n"
     ]
    },
    {
     "data": {
      "image/png": "[encoded data removed]",
      "text/plain": [
       "<Figure size 432x288 with 1 Axes>"
      ]
     },
     "metadata": {
      "needs_background": "light"
     },
     "output_type": "display_data"
    }
   ],
   "source": [
    "#Exploring the MANUFACTURER_ID column\n",
    "\n",
    "print(loan_df['MANUFACTURER_ID'].value_counts())\n",
    "print(loan_df['MANUFACTURER_ID'].value_counts(normalize=True))\n",
    "sns.countplot(x=\"MANUFACTURER_ID\", data=loan_df)\n",
    "plt.show()"
   ]
  },
  {
   "cell_type": "code",
   "execution_count": 35,
   "id": "8d904103",
   "metadata": {},
   "outputs": [
    {
     "name": "stdout",
     "output_type": "stream",
     "text": [
      "LOAN_DEFAULT           0        1\n",
      "MANUFACTURER_ID                  \n",
      "45               43687.0  12939.0\n",
      "48               12156.0   4554.0\n",
      "49                7984.0   2236.0\n",
      "51               21547.0   5657.0\n",
      "67                1882.0    523.0\n",
      "86               87124.0  22410.0\n",
      "120               7526.0   2132.0\n",
      "145                622.0    156.0\n",
      "152                  6.0      NaN\n",
      "153                  8.0      4.0\n",
      "156                  1.0      NaN\n",
      "LOAN_DEFAULT            0         1\n",
      "MANUFACTURER_ID                    \n",
      "45               0.771501  0.228499\n",
      "48               0.727469  0.272531\n",
      "49               0.781213  0.218787\n",
      "51               0.792053  0.207947\n",
      "67               0.782536  0.217464\n",
      "86               0.795406  0.204594\n",
      "120              0.779250  0.220750\n",
      "145              0.799486  0.200514\n",
      "152              1.000000       NaN\n",
      "153              0.666667  0.333333\n",
      "156              1.000000       NaN\n"
     ]
    }
   ],
   "source": [
    "#Trying to see from which manufacturer we got the highest number of defaults \n",
    "\n",
    "print(loan_df.groupby('MANUFACTURER_ID')['LOAN_DEFAULT'].value_counts().unstack(level=-1))\n",
    "print(loan_df.groupby('MANUFACTURER_ID')['LOAN_DEFAULT'].value_counts(normalize=True).unstack(level=-1))"
   ]
  },
  {
   "cell_type": "code",
   "execution_count": 36,
   "id": "057294e6",
   "metadata": {},
   "outputs": [
    {
     "data": {
      "image/png": "[encoded data removed]",
      "text/plain": [
       "<Figure size 443.375x360 with 1 Axes>"
      ]
     },
     "metadata": {
      "needs_background": "light"
     },
     "output_type": "display_data"
    }
   ],
   "source": [
    "#Visualizing above output\n",
    "\n",
    "sns.catplot(data=loan_df,kind='count',x='MANUFACTURER_ID',hue='LOAN_DEFAULT')\n",
    "plt.show()"
   ]
  },
  {
   "cell_type": "code",
   "execution_count": 37,
   "id": "e5ccd546",
   "metadata": {},
   "outputs": [],
   "source": [
    "#We have other categorical features to inspect, so we created a function to avoid repeation, copying and pasting same code\n",
    "\n",
    "def explore_categorical(col_name):  \n",
    "    print(\"{0} Ratio\".format(col_name))\n",
    "    print(loan_df[col_name].value_counts(normalize=True))\n",
    "    print(\"\\n\")\n",
    "\n",
    "    print(\"{0} Default Counts\".format(col_name))\n",
    "    print(loan_df.groupby(col_name)['LOAN_DEFAULT'].value_counts().unstack(level=-1))\n",
    "    print(\"\\n\")\n",
    "\n",
    "    print(\"{0} Default Ratio\".format(col_name))\n",
    "    print(loan_df.groupby(col_name)['LOAN_DEFAULT'].value_counts(normalize=True).unstack(level=-1))\n",
    "    print(\"\\n\")\n",
    "\n",
    "    sns.catplot(data=loan_df,kind='count',x=col_name,hue='LOAN_DEFAULT')\n",
    "    plt.show()"
   ]
  },
  {
   "cell_type": "code",
   "execution_count": 38,
   "id": "7d81f8c2",
   "metadata": {},
   "outputs": [
    {
     "name": "stdout",
     "output_type": "stream",
     "text": [
      "DISBURSAL_MONTH Ratio\n",
      "10    0.421884\n",
      "8     0.291661\n",
      "9     0.286454\n",
      "Name: DISBURSAL_MONTH, dtype: float64\n",
      "\n",
      "\n",
      "DISBURSAL_MONTH Default Counts\n",
      "LOAN_DEFAULT         0      1\n",
      "DISBURSAL_MONTH              \n",
      "8                53336  14666\n",
      "9                53973  12815\n",
      "10               75234  23130\n",
      "\n",
      "\n",
      "DISBURSAL_MONTH Default Ratio\n",
      "LOAN_DEFAULT            0         1\n",
      "DISBURSAL_MONTH                    \n",
      "8                0.784330  0.215670\n",
      "9                0.808124  0.191876\n",
      "10               0.764853  0.235147\n",
      "\n",
      "\n"
     ]
    },
    {
     "data": {
      "image/png": "[encoded data removed]",
      "text/plain": [
       "<Figure size 443.375x360 with 1 Axes>"
      ]
     },
     "metadata": {
      "needs_background": "light"
     },
     "output_type": "display_data"
    }
   ],
   "source": [
    "explore_categorical(\"DISBURSAL_MONTH\")"
   ]
  },
  {
   "cell_type": "code",
   "execution_count": 39,
   "id": "a2a58b39",
   "metadata": {},
   "outputs": [
    {
     "data": {
      "text/plain": [
       "count    233154.000000\n",
       "mean         33.938504\n",
       "std           9.818802\n",
       "min          18.000000\n",
       "25%          26.000000\n",
       "50%          32.000000\n",
       "75%          41.000000\n",
       "max          69.000000\n",
       "Name: AGE, dtype: float64"
      ]
     },
     "execution_count": 39,
     "metadata": {},
     "output_type": "execute_result"
    }
   ],
   "source": [
    "#Exploring Continuous variables\n",
    "\n",
    "loan_df[\"AGE\"].describe()"
   ]
  },
  {
   "cell_type": "code",
   "execution_count": 40,
   "id": "3bb2d90e",
   "metadata": {},
   "outputs": [
    {
     "data": {
      "image/png": "[encoded data removed]",
      "text/plain": [
       "<Figure size 432x288 with 1 Axes>"
      ]
     },
     "metadata": {
      "needs_background": "light"
     },
     "output_type": "display_data"
    }
   ],
   "source": [
    "sns.boxplot(x=\"AGE\", data=loan_df)\n",
    "plt.show()"
   ]
  },
  {
   "cell_type": "code",
   "execution_count": 41,
   "id": "8e596753",
   "metadata": {},
   "outputs": [
    {
     "data": {
      "image/png": "[encoded data removed]",
      "text/plain": [
       "<Figure size 432x288 with 1 Axes>"
      ]
     },
     "metadata": {
      "needs_background": "light"
     },
     "output_type": "display_data"
    }
   ],
   "source": [
    "sns.distplot(loan_df['AGE'], hist=True)\n",
    "plt.show()"
   ]
  },
  {
   "cell_type": "code",
   "execution_count": 42,
   "id": "d9b40350",
   "metadata": {},
   "outputs": [
    {
     "data": {
      "text/html": [
       "<div>\n",
       "<style scoped>\n",
       "    .dataframe tbody tr th:only-of-type {\n",
       "        vertical-align: middle;\n",
       "    }\n",
       "\n",
       "    .dataframe tbody tr th {\n",
       "        vertical-align: top;\n",
       "    }\n",
       "\n",
       "    .dataframe thead th {\n",
       "        text-align: right;\n",
       "    }\n",
       "</style>\n",
       "<table border=\"1\" class=\"dataframe\">\n",
       "  <thead>\n",
       "    <tr style=\"text-align: right;\">\n",
       "      <th></th>\n",
       "      <th>count</th>\n",
       "      <th>mean</th>\n",
       "      <th>std</th>\n",
       "      <th>min</th>\n",
       "      <th>25%</th>\n",
       "      <th>50%</th>\n",
       "      <th>75%</th>\n",
       "      <th>max</th>\n",
       "    </tr>\n",
       "    <tr>\n",
       "      <th>LOAN_DEFAULT</th>\n",
       "      <th></th>\n",
       "      <th></th>\n",
       "      <th></th>\n",
       "      <th></th>\n",
       "      <th></th>\n",
       "      <th></th>\n",
       "      <th></th>\n",
       "      <th></th>\n",
       "    </tr>\n",
       "  </thead>\n",
       "  <tbody>\n",
       "    <tr>\n",
       "      <th>0</th>\n",
       "      <td>182543.0</td>\n",
       "      <td>34.127307</td>\n",
       "      <td>9.850548</td>\n",
       "      <td>18.0</td>\n",
       "      <td>26.0</td>\n",
       "      <td>32.0</td>\n",
       "      <td>41.0</td>\n",
       "      <td>69.0</td>\n",
       "    </tr>\n",
       "    <tr>\n",
       "      <th>1</th>\n",
       "      <td>50611.0</td>\n",
       "      <td>33.257533</td>\n",
       "      <td>9.672964</td>\n",
       "      <td>18.0</td>\n",
       "      <td>25.0</td>\n",
       "      <td>31.0</td>\n",
       "      <td>40.0</td>\n",
       "      <td>64.0</td>\n",
       "    </tr>\n",
       "  </tbody>\n",
       "</table>\n",
       "</div>"
      ],
      "text/plain": [
       "                 count       mean       std   min   25%   50%   75%   max\n",
       "LOAN_DEFAULT                                                             \n",
       "0             182543.0  34.127307  9.850548  18.0  26.0  32.0  41.0  69.0\n",
       "1              50611.0  33.257533  9.672964  18.0  25.0  31.0  40.0  64.0"
      ]
     },
     "execution_count": 42,
     "metadata": {},
     "output_type": "execute_result"
    }
   ],
   "source": [
    "#Checking age stat with Loan default\n",
    "\n",
    "loan_df.groupby('LOAN_DEFAULT')['AGE'].describe()"
   ]
  },
  {
   "cell_type": "code",
   "execution_count": 43,
   "id": "9ebf407b",
   "metadata": {},
   "outputs": [
    {
     "data": {
      "image/png": "[encoded data removed]",
      "text/plain": [
       "<Figure size 432x288 with 1 Axes>"
      ]
     },
     "metadata": {
      "needs_background": "light"
     },
     "output_type": "display_data"
    }
   ],
   "source": [
    "sns.boxplot(x='AGE', y='LOAN_DEFAULT', data=loan_df, orient=\"h\")\n",
    "plt.show()"
   ]
  },
  {
   "cell_type": "code",
   "execution_count": 44,
   "id": "14c5063b",
   "metadata": {},
   "outputs": [],
   "source": [
    "#We have other continuous features to inspect, so we created a function to avoid repeation, copying and pasting same code\n",
    "\n",
    "def explore_continuous(col_name):\n",
    "    #print statistical summary\n",
    "    print(\"{0} Summary\".format(col_name))\n",
    "    print(\"\\n\")\n",
    "    print(loan_df[col_name].describe())\n",
    "    print(\"\\n\")\n",
    "\n",
    "    #Look at boxplot\n",
    "    sns.boxplot(x=col_name, data=loan_df)\n",
    "    plt.show()\n",
    "\n",
    "    #Look at the distribution\n",
    "    sns.distplot(loan_df[col_name], hist=False)\n",
    "    plt.show()\n",
    "\n",
    "    #Now lets look deeper by grouping with the target variable \n",
    "    print(\"{0} Grouped Summary\".format(col_name))\n",
    "    print(\"\\n\")\n",
    "    print(loan_df.groupby('LOAN_DEFAULT')[col_name].describe())\n",
    "\n",
    "    #look at grouped boxplot \n",
    "    sns.boxplot(x=col_name, y='LOAN_DEFAULT', data=loan_df, orient=\"h\")\n",
    "    plt.show()"
   ]
  },
  {
   "cell_type": "code",
   "execution_count": 45,
   "id": "234c2d14",
   "metadata": {},
   "outputs": [
    {
     "name": "stdout",
     "output_type": "stream",
     "text": [
      "DISBURSED_AMOUNT Summary\n",
      "\n",
      "\n",
      "count    233154.000000\n",
      "mean      54356.993528\n",
      "std       12971.314171\n",
      "min       13320.000000\n",
      "25%       47145.000000\n",
      "50%       53803.000000\n",
      "75%       60413.000000\n",
      "max      990572.000000\n",
      "Name: DISBURSED_AMOUNT, dtype: float64\n",
      "\n",
      "\n"
     ]
    },
    {
     "data": {
      "image/png": "[encoded data removed]",
      "text/plain": [
       "<Figure size 432x288 with 1 Axes>"
      ]
     },
     "metadata": {
      "needs_background": "light"
     },
     "output_type": "display_data"
    },
    {
     "data": {
      "image/png": "[encoded data removed]",
      "text/plain": [
       "<Figure size 432x288 with 1 Axes>"
      ]
     },
     "metadata": {
      "needs_background": "light"
     },
     "output_type": "display_data"
    },
    {
     "name": "stdout",
     "output_type": "stream",
     "text": [
      "DISBURSED_AMOUNT Grouped Summary\n",
      "\n",
      "\n",
      "                 count          mean           std      min      25%      50%  \\\n",
      "LOAN_DEFAULT                                                                    \n",
      "0             182543.0  53826.471111  13140.699007  13320.0  46369.0  53303.0   \n",
      "1              50611.0  56270.473869  12150.255527  13369.0  49303.0  55459.0   \n",
      "\n",
      "                  75%       max  \n",
      "LOAN_DEFAULT                     \n",
      "0             59947.0  990572.0  \n",
      "1             61947.0  191392.0  \n"
     ]
    },
    {
     "data": {
      "image/png": "[encoded data removed]",
      "text/plain": [
       "<Figure size 432x288 with 1 Axes>"
      ]
     },
     "metadata": {
      "needs_background": "light"
     },
     "output_type": "display_data"
    }
   ],
   "source": [
    "explore_continuous('DISBURSED_AMOUNT')"
   ]
  },
  {
   "cell_type": "code",
   "execution_count": 46,
   "id": "576e0c6a",
   "metadata": {},
   "outputs": [
    {
     "name": "stdout",
     "output_type": "stream",
     "text": [
      "AADHAR_FLAG Ratio\n",
      "True     0.84032\n",
      "False    0.15968\n",
      "Name: AADHAR_FLAG, dtype: float64\n",
      "\n",
      "\n",
      "AADHAR_FLAG Default Counts\n",
      "LOAN_DEFAULT       0      1\n",
      "AADHAR_FLAG                \n",
      "False          27684   9546\n",
      "True          154859  41065\n",
      "\n",
      "\n",
      "AADHAR_FLAG Default Ratio\n",
      "LOAN_DEFAULT         0         1\n",
      "AADHAR_FLAG                     \n",
      "False         0.743594  0.256406\n",
      "True          0.790403  0.209597\n",
      "\n",
      "\n"
     ]
    },
    {
     "data": {
      "image/png": "[encoded data removed]",
      "text/plain": [
       "<Figure size 443.375x360 with 1 Axes>"
      ]
     },
     "metadata": {
      "needs_background": "light"
     },
     "output_type": "display_data"
    }
   ],
   "source": [
    "#Exploring AADHAR_FLAG\n",
    "\n",
    "explore_categorical('AADHAR_FLAG')"
   ]
  },
  {
   "cell_type": "markdown",
   "id": "7f69f8c6",
   "metadata": {},
   "source": [
    "# Feature Engineering"
   ]
  },
  {
   "cell_type": "code",
   "execution_count": 47,
   "id": "05143fb1",
   "metadata": {},
   "outputs": [
    {
     "data": {
      "text/plain": [
       "22321"
      ]
     },
     "execution_count": 47,
     "metadata": {},
     "output_type": "execute_result"
    }
   ],
   "source": [
    "#Getting the index of the highest value in loan disbursement to see\n",
    "\n",
    "loan_df['DISBURSED_AMOUNT'].idxmax()"
   ]
  },
  {
   "cell_type": "code",
   "execution_count": 48,
   "id": "ceaefedc",
   "metadata": {},
   "outputs": [
    {
     "data": {
      "text/plain": [
       "UNIQUEID                                                                          440173\n",
       "DISBURSED_AMOUNT                                                                  990572\n",
       "ASSET_COST                                                                       1628992\n",
       "LTV                                                                            61.389999\n",
       "MANUFACTURER_ID                                                                      152\n",
       "EMPLOYMENT_TYPE                                                                  Missing\n",
       "STATE_ID                                                                               9\n",
       "AADHAR_FLAG                                                                         True\n",
       "PAN_FLAG                                                                            True\n",
       "VOTERID_FLAG                                                                       False\n",
       "DRIVING_FLAG                                                                       False\n",
       "PASSPORT_FLAG                                                                          0\n",
       "PERFORM_CNS_SCORE                                                                     16\n",
       "PERFORM_CNS_SCORE_DESCRIPTION          Not Scored: No Activity seen on the customer (...\n",
       "PRI_NO_OF_ACCTS                                                                        1\n",
       "PRI_ACTIVE_ACCTS                                                                       0\n",
       "PRI_OVERDUE_ACCTS                                                                      1\n",
       "PRI_CURRENT_BALANCE                                                                    0\n",
       "PRI_SANCTIONED_AMOUNT                                                                  0\n",
       "PRI_DISBURSED_AMOUNT                                                                   0\n",
       "SEC_NO_OF_ACCTS                                                                        0\n",
       "SEC_ACTIVE_ACCTS                                                                       0\n",
       "SEC_OVERDUE_ACCTS                                                                      0\n",
       "SEC_CURRENT_BALANCE                                                                  0.0\n",
       "SEC_SANCTIONED_AMOUNT                                                                  0\n",
       "SEC_DISBURSED_AMOUNT                                                                   0\n",
       "PRIMARY_INSTAL_AMT                                                                  6224\n",
       "SEC_INSTAL_AMT                                                                         0\n",
       "NEW_ACCTS_IN_LAST_SIX_MONTHS                                                           0\n",
       "DELINQUENT_ACCTS_IN_LAST_SIX_MONTHS                                                    0\n",
       "NO_OF_INQUIRIES                                                                        0\n",
       "LOAN_DEFAULT                                                                           0\n",
       "AGE                                                                                   28\n",
       "DISBURSAL_MONTH                                                                        8\n",
       "AVERAGE_ACCT_AGE_MONTHS                                                               70\n",
       "CREDIT_HISTORY_LENGTH_MONTHS                                                          70\n",
       "Name: 22321, dtype: object"
      ]
     },
     "execution_count": 48,
     "metadata": {},
     "output_type": "execute_result"
    }
   ],
   "source": [
    "#Checking the column\n",
    "\n",
    "loan_df.loc[loan_df['DISBURSED_AMOUNT'].idxmax()]"
   ]
  },
  {
   "cell_type": "code",
   "execution_count": 49,
   "id": "6c5ec640",
   "metadata": {},
   "outputs": [],
   "source": [
    "#Since loan value is reasonable as per asset cost, we decided to bin data to smoothen out the effect of strange outliers\n",
    "disbursed_buckets = [13000, 30000, 45000, 60000, 75000, 150000, 1000000]\n",
    "disbursed_labels = ['13k - 30k', '30k - 45k', '45k - 60k', '60k - 75k', '75k - 150k', '150k - 1m']\n",
    "loan_df['DISBURSED_CAT'] = pd.cut(loan_df['DISBURSED_AMOUNT'], disbursed_buckets, labels=disbursed_labels)"
   ]
  },
  {
   "cell_type": "code",
   "execution_count": 50,
   "id": "2533805c",
   "metadata": {},
   "outputs": [
    {
     "name": "stdout",
     "output_type": "stream",
     "text": [
      "DISBURSED_CAT Ratio\n",
      "45k - 60k     0.544293\n",
      "60k - 75k     0.213696\n",
      "30k - 45k     0.174245\n",
      "75k - 150k    0.046626\n",
      "13k - 30k     0.020866\n",
      "150k - 1m     0.000274\n",
      "Name: DISBURSED_CAT, dtype: float64\n",
      "\n",
      "\n",
      "DISBURSED_CAT Default Counts\n",
      "LOAN_DEFAULT       0      1\n",
      "DISBURSED_CAT              \n",
      "13k - 30k       4207    658\n",
      "30k - 45k      34323   6303\n",
      "45k - 60k      98830  28074\n",
      "60k - 75k      37056  12768\n",
      "75k - 150k      8070   2801\n",
      "150k - 1m         57      7\n",
      "\n",
      "\n",
      "DISBURSED_CAT Default Ratio\n",
      "LOAN_DEFAULT          0         1\n",
      "DISBURSED_CAT                    \n",
      "13k - 30k      0.864748  0.135252\n",
      "30k - 45k      0.844853  0.155147\n",
      "45k - 60k      0.778778  0.221222\n",
      "60k - 75k      0.743738  0.256262\n",
      "75k - 150k     0.742342  0.257658\n",
      "150k - 1m      0.890625  0.109375\n",
      "\n",
      "\n"
     ]
    },
    {
     "data": {
      "image/png": "[encoded data removed]",
      "text/plain": [
       "<Figure size 443.375x360 with 1 Axes>"
      ]
     },
     "metadata": {
      "needs_background": "light"
     },
     "output_type": "display_data"
    }
   ],
   "source": [
    "#Inspecting DISBURSED_CAT\n",
    "\n",
    "explore_categorical('DISBURSED_CAT')"
   ]
  },
  {
   "cell_type": "code",
   "execution_count": 51,
   "id": "ec9d7ca7",
   "metadata": {},
   "outputs": [
    {
     "name": "stdout",
     "output_type": "stream",
     "text": [
      "69\n",
      "18\n"
     ]
    }
   ],
   "source": [
    "print(loan_df['AGE'].max())\n",
    "print(loan_df['AGE'].min())"
   ]
  },
  {
   "cell_type": "code",
   "execution_count": 52,
   "id": "ecabed06",
   "metadata": {},
   "outputs": [],
   "source": [
    "disbursed_buckets = [16, 25, 35, 45, 55, 70]\n",
    "disbursed_labels = ['16 - 25', '25 - 35', '35 - 45', '45 - 55', '55 - 70']"
   ]
  },
  {
   "cell_type": "code",
   "execution_count": 53,
   "id": "b00c5af3",
   "metadata": {},
   "outputs": [],
   "source": [
    "loan_df['AGE_CAT'] = pd.cut(loan_df['AGE'], disbursed_buckets, labels=disbursed_labels)"
   ]
  },
  {
   "cell_type": "code",
   "execution_count": 54,
   "id": "3c8928dc",
   "metadata": {},
   "outputs": [],
   "source": [
    "#Checking the difference between asset cost and disbursement amount\n",
    "\n",
    "loan_df['DISBURSAL_DIFFERENCE'] = loan_df['ASSET_COST'] - loan_df['DISBURSED_AMOUNT']"
   ]
  },
  {
   "cell_type": "code",
   "execution_count": 55,
   "id": "659c75aa",
   "metadata": {},
   "outputs": [
    {
     "data": {
      "text/html": [
       "<div>\n",
       "<style scoped>\n",
       "    .dataframe tbody tr th:only-of-type {\n",
       "        vertical-align: middle;\n",
       "    }\n",
       "\n",
       "    .dataframe tbody tr th {\n",
       "        vertical-align: top;\n",
       "    }\n",
       "\n",
       "    .dataframe thead th {\n",
       "        text-align: right;\n",
       "    }\n",
       "</style>\n",
       "<table border=\"1\" class=\"dataframe\">\n",
       "  <thead>\n",
       "    <tr style=\"text-align: right;\">\n",
       "      <th></th>\n",
       "      <th>DISBURSAL_DIFFERENCE</th>\n",
       "      <th>ASSET_COST</th>\n",
       "      <th>DISBURSED_AMOUNT</th>\n",
       "    </tr>\n",
       "  </thead>\n",
       "  <tbody>\n",
       "    <tr>\n",
       "      <th>136309</th>\n",
       "      <td>20144</td>\n",
       "      <td>70887</td>\n",
       "      <td>50743</td>\n",
       "    </tr>\n",
       "    <tr>\n",
       "      <th>198660</th>\n",
       "      <td>12385</td>\n",
       "      <td>58530</td>\n",
       "      <td>46145</td>\n",
       "    </tr>\n",
       "    <tr>\n",
       "      <th>109967</th>\n",
       "      <td>37082</td>\n",
       "      <td>53701</td>\n",
       "      <td>16619</td>\n",
       "    </tr>\n",
       "    <tr>\n",
       "      <th>33607</th>\n",
       "      <td>25926</td>\n",
       "      <td>61865</td>\n",
       "      <td>35939</td>\n",
       "    </tr>\n",
       "    <tr>\n",
       "      <th>202432</th>\n",
       "      <td>20351</td>\n",
       "      <td>66700</td>\n",
       "      <td>46349</td>\n",
       "    </tr>\n",
       "  </tbody>\n",
       "</table>\n",
       "</div>"
      ],
      "text/plain": [
       "        DISBURSAL_DIFFERENCE  ASSET_COST  DISBURSED_AMOUNT\n",
       "136309                 20144       70887             50743\n",
       "198660                 12385       58530             46145\n",
       "109967                 37082       53701             16619\n",
       "33607                  25926       61865             35939\n",
       "202432                 20351       66700             46349"
      ]
     },
     "execution_count": 55,
     "metadata": {},
     "output_type": "execute_result"
    }
   ],
   "source": [
    "#Sanity check\n",
    "\n",
    "loan_df[['DISBURSAL_DIFFERENCE', 'ASSET_COST', 'DISBURSED_AMOUNT']].sample(5)"
   ]
  },
  {
   "cell_type": "code",
   "execution_count": 56,
   "id": "5ffdc5f8",
   "metadata": {},
   "outputs": [],
   "source": [
    "#Adding Primary and Secondary column to reduce complexity and retain information.\n",
    "\n",
    "loan_df['TOTAL_ACCTS'] = loan_df['PRI_NO_OF_ACCTS'] + loan_df['SEC_NO_OF_ACCTS']\n",
    "loan_df['TOTAL_ACTIVE_ACCTS'] = loan_df['PRI_ACTIVE_ACCTS'] + loan_df['SEC_ACTIVE_ACCTS']\n",
    "loan_df['TOTAL_OVERDUE_ACCTS'] = loan_df['PRI_OVERDUE_ACCTS'] + loan_df['SEC_OVERDUE_ACCTS']\n",
    "loan_df['TOTAL_CURRENT_BALANCE'] = loan_df['PRI_CURRENT_BALANCE'] + loan_df['SEC_CURRENT_BALANCE']\n",
    "loan_df['TOTAL_SANCTIONED_AMOUNT'] = loan_df['PRI_SANCTIONED_AMOUNT'] + loan_df['SEC_SANCTIONED_AMOUNT'] \n",
    "loan_df['TOTAL_DISBURSED_AMOUNT'] = loan_df['PRI_DISBURSED_AMOUNT'] + loan_df['SEC_DISBURSED_AMOUNT']\n",
    "loan_df['TOTAL_INSTAL_AMT'] = loan_df['PRIMARY_INSTAL_AMT'] + loan_df['SEC_INSTAL_AMT']"
   ]
  },
  {
   "cell_type": "code",
   "execution_count": 57,
   "id": "43875ff0",
   "metadata": {},
   "outputs": [
    {
     "data": {
      "text/html": [
       "<div>\n",
       "<style scoped>\n",
       "    .dataframe tbody tr th:only-of-type {\n",
       "        vertical-align: middle;\n",
       "    }\n",
       "\n",
       "    .dataframe tbody tr th {\n",
       "        vertical-align: top;\n",
       "    }\n",
       "\n",
       "    .dataframe thead th {\n",
       "        text-align: right;\n",
       "    }\n",
       "</style>\n",
       "<table border=\"1\" class=\"dataframe\">\n",
       "  <thead>\n",
       "    <tr style=\"text-align: right;\">\n",
       "      <th></th>\n",
       "      <th>TOTAL_ACCTS</th>\n",
       "      <th>PRI_NO_OF_ACCTS</th>\n",
       "      <th>SEC_NO_OF_ACCTS</th>\n",
       "    </tr>\n",
       "  </thead>\n",
       "  <tbody>\n",
       "    <tr>\n",
       "      <th>161422</th>\n",
       "      <td>0</td>\n",
       "      <td>0</td>\n",
       "      <td>0</td>\n",
       "    </tr>\n",
       "    <tr>\n",
       "      <th>67006</th>\n",
       "      <td>3</td>\n",
       "      <td>3</td>\n",
       "      <td>0</td>\n",
       "    </tr>\n",
       "    <tr>\n",
       "      <th>98235</th>\n",
       "      <td>0</td>\n",
       "      <td>0</td>\n",
       "      <td>0</td>\n",
       "    </tr>\n",
       "    <tr>\n",
       "      <th>213280</th>\n",
       "      <td>30</td>\n",
       "      <td>30</td>\n",
       "      <td>0</td>\n",
       "    </tr>\n",
       "    <tr>\n",
       "      <th>177752</th>\n",
       "      <td>21</td>\n",
       "      <td>21</td>\n",
       "      <td>0</td>\n",
       "    </tr>\n",
       "    <tr>\n",
       "      <th>121919</th>\n",
       "      <td>0</td>\n",
       "      <td>0</td>\n",
       "      <td>0</td>\n",
       "    </tr>\n",
       "    <tr>\n",
       "      <th>212661</th>\n",
       "      <td>0</td>\n",
       "      <td>0</td>\n",
       "      <td>0</td>\n",
       "    </tr>\n",
       "    <tr>\n",
       "      <th>168191</th>\n",
       "      <td>7</td>\n",
       "      <td>7</td>\n",
       "      <td>0</td>\n",
       "    </tr>\n",
       "    <tr>\n",
       "      <th>220515</th>\n",
       "      <td>0</td>\n",
       "      <td>0</td>\n",
       "      <td>0</td>\n",
       "    </tr>\n",
       "    <tr>\n",
       "      <th>220557</th>\n",
       "      <td>0</td>\n",
       "      <td>0</td>\n",
       "      <td>0</td>\n",
       "    </tr>\n",
       "  </tbody>\n",
       "</table>\n",
       "</div>"
      ],
      "text/plain": [
       "        TOTAL_ACCTS  PRI_NO_OF_ACCTS  SEC_NO_OF_ACCTS\n",
       "161422            0                0                0\n",
       "67006             3                3                0\n",
       "98235             0                0                0\n",
       "213280           30               30                0\n",
       "177752           21               21                0\n",
       "121919            0                0                0\n",
       "212661            0                0                0\n",
       "168191            7                7                0\n",
       "220515            0                0                0\n",
       "220557            0                0                0"
      ]
     },
     "execution_count": 57,
     "metadata": {},
     "output_type": "execute_result"
    }
   ],
   "source": [
    "#Sanity check\n",
    "\n",
    "loan_df[['TOTAL_ACCTS', 'PRI_NO_OF_ACCTS', 'SEC_NO_OF_ACCTS']].sample(10)"
   ]
  },
  {
   "cell_type": "code",
   "execution_count": 58,
   "id": "7d6f1acc",
   "metadata": {},
   "outputs": [],
   "source": [
    "#Dropping previous columns\n",
    "\n",
    "drop_cols = ['PRI_NO_OF_ACCTS', 'PRI_ACTIVE_ACCTS', 'PRI_OVERDUE_ACCTS', 'PRI_CURRENT_BALANCE', \n",
    "             'PRI_SANCTIONED_AMOUNT', 'PRI_DISBURSED_AMOUNT', 'PRIMARY_INSTAL_AMT', 'SEC_NO_OF_ACCTS', \n",
    "             'SEC_ACTIVE_ACCTS', 'SEC_OVERDUE_ACCTS', 'SEC_CURRENT_BALANCE', 'SEC_SANCTIONED_AMOUNT', \n",
    "             'SEC_DISBURSED_AMOUNT', 'SEC_INSTAL_AMT']\n",
    "\n",
    "loan_df = loan_df.drop(drop_cols, axis=1)"
   ]
  },
  {
   "cell_type": "code",
   "execution_count": 59,
   "id": "f966071c",
   "metadata": {},
   "outputs": [],
   "source": [
    "#Calculating prcentage of overdue loans\n",
    "\n",
    "loan_df['OVERDUE_PCT'] = loan_df['TOTAL_OVERDUE_ACCTS'] / loan_df['TOTAL_ACCTS']"
   ]
  },
  {
   "cell_type": "code",
   "execution_count": 60,
   "id": "a06907c4",
   "metadata": {},
   "outputs": [
    {
     "data": {
      "text/plain": [
       "115792"
      ]
     },
     "execution_count": 60,
     "metadata": {},
     "output_type": "execute_result"
    }
   ],
   "source": [
    "#Checking for null value in overdue loans column\n",
    "loan_df['OVERDUE_PCT'].isnull().sum()"
   ]
  },
  {
   "cell_type": "code",
   "execution_count": 61,
   "id": "04db7090",
   "metadata": {},
   "outputs": [],
   "source": [
    "#Filling null values with '0'\n",
    "\n",
    "loan_df['OVERDUE_PCT'] = loan_df['OVERDUE_PCT'].fillna(0)"
   ]
  },
  {
   "cell_type": "code",
   "execution_count": 62,
   "id": "cc3a2178",
   "metadata": {},
   "outputs": [
    {
     "data": {
      "text/plain": [
       "0"
      ]
     },
     "execution_count": 62,
     "metadata": {},
     "output_type": "execute_result"
    }
   ],
   "source": [
    "#Sanity check\n",
    "\n",
    "loan_df['OVERDUE_PCT'].isnull().sum()"
   ]
  },
  {
   "cell_type": "code",
   "execution_count": 63,
   "id": "7abd6fd8",
   "metadata": {},
   "outputs": [
    {
     "name": "stdout",
     "output_type": "stream",
     "text": [
      "<class 'pandas.core.frame.DataFrame'>\n",
      "RangeIndex: 233154 entries, 0 to 233153\n",
      "Data columns (total 33 columns):\n",
      " #   Column                               Non-Null Count   Dtype   \n",
      "---  ------                               --------------   -----   \n",
      " 0   UNIQUEID                             233154 non-null  int64   \n",
      " 1   DISBURSED_AMOUNT                     233154 non-null  int64   \n",
      " 2   ASSET_COST                           233154 non-null  int64   \n",
      " 3   LTV                                  233154 non-null  float64 \n",
      " 4   MANUFACTURER_ID                      233154 non-null  int64   \n",
      " 5   EMPLOYMENT_TYPE                      233154 non-null  object  \n",
      " 6   STATE_ID                             233154 non-null  int64   \n",
      " 7   AADHAR_FLAG                          233154 non-null  bool    \n",
      " 8   PAN_FLAG                             233154 non-null  bool    \n",
      " 9   VOTERID_FLAG                         233154 non-null  bool    \n",
      " 10  DRIVING_FLAG                         233154 non-null  bool    \n",
      " 11  PASSPORT_FLAG                        233154 non-null  int64   \n",
      " 12  PERFORM_CNS_SCORE                    233154 non-null  int64   \n",
      " 13  PERFORM_CNS_SCORE_DESCRIPTION        233154 non-null  object  \n",
      " 14  NEW_ACCTS_IN_LAST_SIX_MONTHS         233154 non-null  int64   \n",
      " 15  DELINQUENT_ACCTS_IN_LAST_SIX_MONTHS  233154 non-null  int64   \n",
      " 16  NO_OF_INQUIRIES                      233154 non-null  int64   \n",
      " 17  LOAN_DEFAULT                         233154 non-null  int64   \n",
      " 18  AGE                                  233154 non-null  int64   \n",
      " 19  DISBURSAL_MONTH                      233154 non-null  int64   \n",
      " 20  AVERAGE_ACCT_AGE_MONTHS              233154 non-null  int64   \n",
      " 21  CREDIT_HISTORY_LENGTH_MONTHS         233154 non-null  int64   \n",
      " 22  DISBURSED_CAT                        233154 non-null  category\n",
      " 23  AGE_CAT                              233154 non-null  category\n",
      " 24  DISBURSAL_DIFFERENCE                 233154 non-null  int64   \n",
      " 25  TOTAL_ACCTS                          233154 non-null  int64   \n",
      " 26  TOTAL_ACTIVE_ACCTS                   233154 non-null  int64   \n",
      " 27  TOTAL_OVERDUE_ACCTS                  233154 non-null  int64   \n",
      " 28  TOTAL_CURRENT_BALANCE                233154 non-null  float64 \n",
      " 29  TOTAL_SANCTIONED_AMOUNT              233154 non-null  int64   \n",
      " 30  TOTAL_DISBURSED_AMOUNT               233154 non-null  int64   \n",
      " 31  TOTAL_INSTAL_AMT                     233154 non-null  int64   \n",
      " 32  OVERDUE_PCT                          233154 non-null  float64 \n",
      "dtypes: bool(4), category(2), float64(3), int64(22), object(2)\n",
      "memory usage: 49.4+ MB\n"
     ]
    }
   ],
   "source": [
    "loan_df.info()"
   ]
  },
  {
   "cell_type": "code",
   "execution_count": 64,
   "id": "b65038f8",
   "metadata": {},
   "outputs": [],
   "source": [
    "from sklearn.preprocessing import MinMaxScaler"
   ]
  },
  {
   "cell_type": "code",
   "execution_count": 65,
   "id": "f08129d3",
   "metadata": {},
   "outputs": [],
   "source": [
    "#Scaling numerical variables to have the same range on model\n",
    "\n",
    "numeric_cols = ['DISBURSED_AMOUNT', \n",
    "                'ASSET_COST', \n",
    "                'LTV', \n",
    "                'NEW_ACCTS_IN_LAST_SIX_MONTHS', \n",
    "                'DELINQUENT_ACCTS_IN_LAST_SIX_MONTHS', \n",
    "                'NO_OF_INQUIRIES', \n",
    "                'AGE', \n",
    "                'AVERAGE_ACCT_AGE_MONTHS', \n",
    "                'CREDIT_HISTORY_LENGTH_MONTHS',\n",
    "                'PERFORM_CNS_SCORE',\n",
    "                'TOTAL_ACCTS',\n",
    "                'TOTAL_ACTIVE_ACCTS',\n",
    "                'TOTAL_OVERDUE_ACCTS',\n",
    "                'TOTAL_CURRENT_BALANCE', \n",
    "                'TOTAL_SANCTIONED_AMOUNT', \n",
    "                'TOTAL_DISBURSED_AMOUNT', \n",
    "                'TOTAL_INSTAL_AMT', \n",
    "                'OVERDUE_PCT', \n",
    "                'DISBURSAL_DIFFERENCE']"
   ]
  },
  {
   "cell_type": "code",
   "execution_count": 66,
   "id": "2fb57b64",
   "metadata": {},
   "outputs": [
    {
     "data": {
      "image/png": "[encoded data removed]",
      "text/plain": [
       "<Figure size 432x288 with 1 Axes>"
      ]
     },
     "metadata": {
      "needs_background": "light"
     },
     "output_type": "display_data"
    }
   ],
   "source": [
    "#Checking the scaling of 'LTV', 'ASSET_COST', 'AGE', it is evident that they are on different scaling\n",
    "\n",
    "loan_df[['LTV', 'ASSET_COST', 'AGE']].boxplot()\n",
    "plt.title('Prior to Scaling')\n",
    "plt.show()"
   ]
  },
  {
   "cell_type": "code",
   "execution_count": 67,
   "id": "ad66aac6",
   "metadata": {},
   "outputs": [],
   "source": [
    "#Applying MinMaxScaler\n",
    "\n",
    "loan_df[numeric_cols] = MinMaxScaler().fit_transform(loan_df[numeric_cols])"
   ]
  },
  {
   "cell_type": "code",
   "execution_count": 68,
   "id": "13b592d9",
   "metadata": {},
   "outputs": [
    {
     "data": {
      "image/png": "[encoded data removed]",
      "text/plain": [
       "<Figure size 432x288 with 1 Axes>"
      ]
     },
     "metadata": {
      "needs_background": "light"
     },
     "output_type": "display_data"
    }
   ],
   "source": [
    "#Checking boxplot after MinMaxScaler\n",
    "\n",
    "loan_df[['LTV', 'ASSET_COST', 'AGE']].boxplot()\n",
    "plt.title('After Scaling')\n",
    "plt.show()"
   ]
  },
  {
   "cell_type": "markdown",
   "id": "fae8ed93",
   "metadata": {},
   "source": [
    "# Linear Classifiers"
   ]
  },
  {
   "cell_type": "code",
   "execution_count": 69,
   "id": "3d8c7e15",
   "metadata": {},
   "outputs": [],
   "source": [
    "from sklearn.linear_model import LogisticRegression\n",
    "from sklearn.model_selection import train_test_split\n",
    "from sklearn.metrics import confusion_matrix, f1_score \n",
    "from sklearn.metrics import accuracy_score, recall_score, roc_curve, auc, precision_score, plot_confusion_matrix"
   ]
  },
  {
   "cell_type": "code",
   "execution_count": 70,
   "id": "66f9fdb8",
   "metadata": {},
   "outputs": [
    {
     "name": "stdout",
     "output_type": "stream",
     "text": [
      "<class 'pandas.core.frame.DataFrame'>\n",
      "RangeIndex: 233154 entries, 0 to 233153\n",
      "Data columns (total 33 columns):\n",
      " #   Column                               Non-Null Count   Dtype   \n",
      "---  ------                               --------------   -----   \n",
      " 0   UNIQUEID                             233154 non-null  int64   \n",
      " 1   DISBURSED_AMOUNT                     233154 non-null  float64 \n",
      " 2   ASSET_COST                           233154 non-null  float64 \n",
      " 3   LTV                                  233154 non-null  float64 \n",
      " 4   MANUFACTURER_ID                      233154 non-null  int64   \n",
      " 5   EMPLOYMENT_TYPE                      233154 non-null  object  \n",
      " 6   STATE_ID                             233154 non-null  int64   \n",
      " 7   AADHAR_FLAG                          233154 non-null  bool    \n",
      " 8   PAN_FLAG                             233154 non-null  bool    \n",
      " 9   VOTERID_FLAG                         233154 non-null  bool    \n",
      " 10  DRIVING_FLAG                         233154 non-null  bool    \n",
      " 11  PASSPORT_FLAG                        233154 non-null  int64   \n",
      " 12  PERFORM_CNS_SCORE                    233154 non-null  float64 \n",
      " 13  PERFORM_CNS_SCORE_DESCRIPTION        233154 non-null  object  \n",
      " 14  NEW_ACCTS_IN_LAST_SIX_MONTHS         233154 non-null  float64 \n",
      " 15  DELINQUENT_ACCTS_IN_LAST_SIX_MONTHS  233154 non-null  float64 \n",
      " 16  NO_OF_INQUIRIES                      233154 non-null  float64 \n",
      " 17  LOAN_DEFAULT                         233154 non-null  int64   \n",
      " 18  AGE                                  233154 non-null  float64 \n",
      " 19  DISBURSAL_MONTH                      233154 non-null  int64   \n",
      " 20  AVERAGE_ACCT_AGE_MONTHS              233154 non-null  float64 \n",
      " 21  CREDIT_HISTORY_LENGTH_MONTHS         233154 non-null  float64 \n",
      " 22  DISBURSED_CAT                        233154 non-null  category\n",
      " 23  AGE_CAT                              233154 non-null  category\n",
      " 24  DISBURSAL_DIFFERENCE                 233154 non-null  float64 \n",
      " 25  TOTAL_ACCTS                          233154 non-null  float64 \n",
      " 26  TOTAL_ACTIVE_ACCTS                   233154 non-null  float64 \n",
      " 27  TOTAL_OVERDUE_ACCTS                  233154 non-null  float64 \n",
      " 28  TOTAL_CURRENT_BALANCE                233154 non-null  float64 \n",
      " 29  TOTAL_SANCTIONED_AMOUNT              233154 non-null  float64 \n",
      " 30  TOTAL_DISBURSED_AMOUNT               233154 non-null  float64 \n",
      " 31  TOTAL_INSTAL_AMT                     233154 non-null  float64 \n",
      " 32  OVERDUE_PCT                          233154 non-null  float64 \n",
      "dtypes: bool(4), category(2), float64(19), int64(6), object(2)\n",
      "memory usage: 49.4+ MB\n"
     ]
    }
   ],
   "source": [
    "loan_df.info()"
   ]
  },
  {
   "cell_type": "code",
   "execution_count": 71,
   "id": "a6b73eed",
   "metadata": {},
   "outputs": [
    {
     "data": {
      "text/plain": [
       "MANUFACTURER_ID                     int64\n",
       "STATE_ID                            int64\n",
       "DISBURSAL_MONTH                     int64\n",
       "DISBURSED_CAT                    category\n",
       "PERFORM_CNS_SCORE_DESCRIPTION      object\n",
       "EMPLOYMENT_TYPE                    object\n",
       "AGE_CAT                          category\n",
       "dtype: object"
      ]
     },
     "execution_count": 71,
     "metadata": {},
     "output_type": "execute_result"
    }
   ],
   "source": [
    "category_cols = ['MANUFACTURER_ID', 'STATE_ID', 'DISBURSAL_MONTH', 'DISBURSED_CAT',\n",
    "                 'PERFORM_CNS_SCORE_DESCRIPTION', 'EMPLOYMENT_TYPE','AGE_CAT']\n",
    "loan_df[category_cols].dtypes"
   ]
  },
  {
   "cell_type": "code",
   "execution_count": 72,
   "id": "2edeb9ca",
   "metadata": {},
   "outputs": [
    {
     "data": {
      "text/plain": [
       "MANUFACTURER_ID                  category\n",
       "STATE_ID                         category\n",
       "DISBURSAL_MONTH                  category\n",
       "DISBURSED_CAT                    category\n",
       "PERFORM_CNS_SCORE_DESCRIPTION    category\n",
       "EMPLOYMENT_TYPE                  category\n",
       "AGE_CAT                          category\n",
       "dtype: object"
      ]
     },
     "execution_count": 72,
     "metadata": {},
     "output_type": "execute_result"
    }
   ],
   "source": [
    "loan_df[category_cols] = loan_df[category_cols].astype('category')\n",
    "loan_df[category_cols].dtypes"
   ]
  },
  {
   "cell_type": "code",
   "execution_count": 73,
   "id": "3516c416",
   "metadata": {},
   "outputs": [],
   "source": [
    "#We wanted to keep our first model simple, so we selected few features\n",
    "\n",
    "small_cols = ['DISBURSED_AMOUNT', 'ASSET_COST', 'LTV', 'AGE',\n",
    "       'EMPLOYMENT_TYPE', 'STATE_ID', 'PERFORM_CNS_SCORE',\n",
    "      'NO_OF_INQUIRIES','LOAN_DEFAULT', 'DISBURSAL_MONTH', 'AVERAGE_ACCT_AGE_MONTHS',\n",
    "       'CREDIT_HISTORY_LENGTH_MONTHS', 'DISBURSED_CAT', 'AGE_CAT',\n",
    "       'DISBURSAL_DIFFERENCE', 'TOTAL_ACCTS', 'TOTAL_ACTIVE_ACCTS',\n",
    "       'TOTAL_OVERDUE_ACCTS', 'TOTAL_CURRENT_BALANCE',\n",
    "       'TOTAL_SANCTIONED_AMOUNT', 'TOTAL_DISBURSED_AMOUNT', 'TOTAL_INSTAL_AMT',\n",
    "       'OVERDUE_PCT']\n",
    "\n",
    "loan_df_sml = loan_df[small_cols]"
   ]
  },
  {
   "cell_type": "code",
   "execution_count": 74,
   "id": "124ba324",
   "metadata": {},
   "outputs": [
    {
     "name": "stdout",
     "output_type": "stream",
     "text": [
      "(233154, 23)\n",
      "<class 'pandas.core.frame.DataFrame'>\n",
      "RangeIndex: 233154 entries, 0 to 233153\n",
      "Data columns (total 23 columns):\n",
      " #   Column                        Non-Null Count   Dtype   \n",
      "---  ------                        --------------   -----   \n",
      " 0   DISBURSED_AMOUNT              233154 non-null  float64 \n",
      " 1   ASSET_COST                    233154 non-null  float64 \n",
      " 2   LTV                           233154 non-null  float64 \n",
      " 3   AGE                           233154 non-null  float64 \n",
      " 4   EMPLOYMENT_TYPE               233154 non-null  category\n",
      " 5   STATE_ID                      233154 non-null  category\n",
      " 6   PERFORM_CNS_SCORE             233154 non-null  float64 \n",
      " 7   NO_OF_INQUIRIES               233154 non-null  float64 \n",
      " 8   LOAN_DEFAULT                  233154 non-null  int64   \n",
      " 9   DISBURSAL_MONTH               233154 non-null  category\n",
      " 10  AVERAGE_ACCT_AGE_MONTHS       233154 non-null  float64 \n",
      " 11  CREDIT_HISTORY_LENGTH_MONTHS  233154 non-null  float64 \n",
      " 12  DISBURSED_CAT                 233154 non-null  category\n",
      " 13  AGE_CAT                       233154 non-null  category\n",
      " 14  DISBURSAL_DIFFERENCE          233154 non-null  float64 \n",
      " 15  TOTAL_ACCTS                   233154 non-null  float64 \n",
      " 16  TOTAL_ACTIVE_ACCTS            233154 non-null  float64 \n",
      " 17  TOTAL_OVERDUE_ACCTS           233154 non-null  float64 \n",
      " 18  TOTAL_CURRENT_BALANCE         233154 non-null  float64 \n",
      " 19  TOTAL_SANCTIONED_AMOUNT       233154 non-null  float64 \n",
      " 20  TOTAL_DISBURSED_AMOUNT        233154 non-null  float64 \n",
      " 21  TOTAL_INSTAL_AMT              233154 non-null  float64 \n",
      " 22  OVERDUE_PCT                   233154 non-null  float64 \n",
      "dtypes: category(5), float64(17), int64(1)\n",
      "memory usage: 33.1 MB\n",
      "None\n"
     ]
    }
   ],
   "source": [
    "print(loan_df_sml.shape)\n",
    "print(loan_df_sml.info())"
   ]
  },
  {
   "cell_type": "code",
   "execution_count": 75,
   "id": "5b75948a",
   "metadata": {},
   "outputs": [],
   "source": [
    "#Train_test_split\n",
    "\n",
    "x = loan_df_sml.drop(['LOAN_DEFAULT'], axis=1)\n",
    "y = loan_df_sml['LOAN_DEFAULT']\n",
    "x_train, x_test, y_train, y_test = train_test_split(x, y, test_size=0.2, random_state=42)"
   ]
  },
  {
   "cell_type": "code",
   "execution_count": 76,
   "id": "ac925046",
   "metadata": {},
   "outputs": [
    {
     "data": {
      "text/plain": [
       "0    0.783099\n",
       "1    0.216901\n",
       "Name: LOAN_DEFAULT, dtype: float64"
      ]
     },
     "execution_count": 76,
     "metadata": {},
     "output_type": "execute_result"
    }
   ],
   "source": [
    "y_train.value_counts(normalize=True)"
   ]
  },
  {
   "cell_type": "code",
   "execution_count": 77,
   "id": "cd33e1bc",
   "metadata": {},
   "outputs": [
    {
     "data": {
      "text/plain": [
       "0    0.782248\n",
       "1    0.217752\n",
       "Name: LOAN_DEFAULT, dtype: float64"
      ]
     },
     "execution_count": 77,
     "metadata": {},
     "output_type": "execute_result"
    }
   ],
   "source": [
    "y_test.value_counts(normalize=True)"
   ]
  },
  {
   "cell_type": "code",
   "execution_count": 78,
   "id": "dda55ba1",
   "metadata": {},
   "outputs": [
    {
     "data": {
      "text/html": [
       "<div>\n",
       "<style scoped>\n",
       "    .dataframe tbody tr th:only-of-type {\n",
       "        vertical-align: middle;\n",
       "    }\n",
       "\n",
       "    .dataframe tbody tr th {\n",
       "        vertical-align: top;\n",
       "    }\n",
       "\n",
       "    .dataframe thead th {\n",
       "        text-align: right;\n",
       "    }\n",
       "</style>\n",
       "<table border=\"1\" class=\"dataframe\">\n",
       "  <thead>\n",
       "    <tr style=\"text-align: right;\">\n",
       "      <th></th>\n",
       "      <th>DISBURSED_AMOUNT</th>\n",
       "      <th>ASSET_COST</th>\n",
       "      <th>LTV</th>\n",
       "      <th>AGE</th>\n",
       "      <th>PERFORM_CNS_SCORE</th>\n",
       "      <th>NO_OF_INQUIRIES</th>\n",
       "      <th>AVERAGE_ACCT_AGE_MONTHS</th>\n",
       "      <th>CREDIT_HISTORY_LENGTH_MONTHS</th>\n",
       "      <th>DISBURSAL_DIFFERENCE</th>\n",
       "      <th>TOTAL_ACCTS</th>\n",
       "      <th>...</th>\n",
       "      <th>STATE_ID_19</th>\n",
       "      <th>STATE_ID_20</th>\n",
       "      <th>STATE_ID_21</th>\n",
       "      <th>STATE_ID_22</th>\n",
       "      <th>DISBURSAL_MONTH_8</th>\n",
       "      <th>DISBURSAL_MONTH_9</th>\n",
       "      <th>DISBURSAL_MONTH_10</th>\n",
       "      <th>EMPLOYMENT_TYPE_Missing</th>\n",
       "      <th>EMPLOYMENT_TYPE_Salaried</th>\n",
       "      <th>EMPLOYMENT_TYPE_Self employed</th>\n",
       "    </tr>\n",
       "  </thead>\n",
       "  <tbody>\n",
       "    <tr>\n",
       "      <th>95952</th>\n",
       "      <td>0.026522</td>\n",
       "      <td>0.012983</td>\n",
       "      <td>0.698246</td>\n",
       "      <td>0.156863</td>\n",
       "      <td>0.637079</td>\n",
       "      <td>0.000000</td>\n",
       "      <td>0.116531</td>\n",
       "      <td>0.153846</td>\n",
       "      <td>0.022750</td>\n",
       "      <td>0.004415</td>\n",
       "      <td>...</td>\n",
       "      <td>0.0</td>\n",
       "      <td>0.0</td>\n",
       "      <td>0.0</td>\n",
       "      <td>0.0</td>\n",
       "      <td>0.0</td>\n",
       "      <td>1.0</td>\n",
       "      <td>0.0</td>\n",
       "      <td>0.0</td>\n",
       "      <td>1.0</td>\n",
       "      <td>0.0</td>\n",
       "    </tr>\n",
       "    <tr>\n",
       "      <th>129243</th>\n",
       "      <td>0.050543</td>\n",
       "      <td>0.025262</td>\n",
       "      <td>0.857361</td>\n",
       "      <td>0.313725</td>\n",
       "      <td>0.000000</td>\n",
       "      <td>0.000000</td>\n",
       "      <td>0.000000</td>\n",
       "      <td>0.000000</td>\n",
       "      <td>0.016562</td>\n",
       "      <td>0.000000</td>\n",
       "      <td>...</td>\n",
       "      <td>0.0</td>\n",
       "      <td>0.0</td>\n",
       "      <td>0.0</td>\n",
       "      <td>0.0</td>\n",
       "      <td>0.0</td>\n",
       "      <td>1.0</td>\n",
       "      <td>0.0</td>\n",
       "      <td>0.0</td>\n",
       "      <td>0.0</td>\n",
       "      <td>1.0</td>\n",
       "    </tr>\n",
       "    <tr>\n",
       "      <th>173833</th>\n",
       "      <td>0.041139</td>\n",
       "      <td>0.021599</td>\n",
       "      <td>0.784041</td>\n",
       "      <td>0.470588</td>\n",
       "      <td>0.000000</td>\n",
       "      <td>0.000000</td>\n",
       "      <td>0.000000</td>\n",
       "      <td>0.000000</td>\n",
       "      <td>0.021855</td>\n",
       "      <td>0.000000</td>\n",
       "      <td>...</td>\n",
       "      <td>0.0</td>\n",
       "      <td>0.0</td>\n",
       "      <td>0.0</td>\n",
       "      <td>1.0</td>\n",
       "      <td>0.0</td>\n",
       "      <td>0.0</td>\n",
       "      <td>1.0</td>\n",
       "      <td>0.0</td>\n",
       "      <td>1.0</td>\n",
       "      <td>0.0</td>\n",
       "    </tr>\n",
       "    <tr>\n",
       "      <th>211992</th>\n",
       "      <td>0.046701</td>\n",
       "      <td>0.039079</td>\n",
       "      <td>0.590091</td>\n",
       "      <td>0.117647</td>\n",
       "      <td>0.000000</td>\n",
       "      <td>0.000000</td>\n",
       "      <td>0.000000</td>\n",
       "      <td>0.000000</td>\n",
       "      <td>0.057151</td>\n",
       "      <td>0.000000</td>\n",
       "      <td>...</td>\n",
       "      <td>0.0</td>\n",
       "      <td>0.0</td>\n",
       "      <td>0.0</td>\n",
       "      <td>0.0</td>\n",
       "      <td>0.0</td>\n",
       "      <td>0.0</td>\n",
       "      <td>1.0</td>\n",
       "      <td>0.0</td>\n",
       "      <td>0.0</td>\n",
       "      <td>1.0</td>\n",
       "    </tr>\n",
       "    <tr>\n",
       "      <th>78414</th>\n",
       "      <td>0.042915</td>\n",
       "      <td>0.020496</td>\n",
       "      <td>0.845357</td>\n",
       "      <td>0.117647</td>\n",
       "      <td>0.829213</td>\n",
       "      <td>0.027778</td>\n",
       "      <td>0.008130</td>\n",
       "      <td>0.006410</td>\n",
       "      <td>0.016352</td>\n",
       "      <td>0.002208</td>\n",
       "      <td>...</td>\n",
       "      <td>0.0</td>\n",
       "      <td>0.0</td>\n",
       "      <td>0.0</td>\n",
       "      <td>0.0</td>\n",
       "      <td>0.0</td>\n",
       "      <td>1.0</td>\n",
       "      <td>0.0</td>\n",
       "      <td>0.0</td>\n",
       "      <td>1.0</td>\n",
       "      <td>0.0</td>\n",
       "    </tr>\n",
       "  </tbody>\n",
       "</table>\n",
       "<p>5 rows × 56 columns</p>\n",
       "</div>"
      ],
      "text/plain": [
       "        DISBURSED_AMOUNT  ASSET_COST       LTV       AGE  PERFORM_CNS_SCORE  \\\n",
       "95952           0.026522    0.012983  0.698246  0.156863           0.637079   \n",
       "129243          0.050543    0.025262  0.857361  0.313725           0.000000   \n",
       "173833          0.041139    0.021599  0.784041  0.470588           0.000000   \n",
       "211992          0.046701    0.039079  0.590091  0.117647           0.000000   \n",
       "78414           0.042915    0.020496  0.845357  0.117647           0.829213   \n",
       "\n",
       "        NO_OF_INQUIRIES  AVERAGE_ACCT_AGE_MONTHS  \\\n",
       "95952          0.000000                 0.116531   \n",
       "129243         0.000000                 0.000000   \n",
       "173833         0.000000                 0.000000   \n",
       "211992         0.000000                 0.000000   \n",
       "78414          0.027778                 0.008130   \n",
       "\n",
       "        CREDIT_HISTORY_LENGTH_MONTHS  DISBURSAL_DIFFERENCE  TOTAL_ACCTS  ...  \\\n",
       "95952                       0.153846              0.022750     0.004415  ...   \n",
       "129243                      0.000000              0.016562     0.000000  ...   \n",
       "173833                      0.000000              0.021855     0.000000  ...   \n",
       "211992                      0.000000              0.057151     0.000000  ...   \n",
       "78414                       0.006410              0.016352     0.002208  ...   \n",
       "\n",
       "        STATE_ID_19  STATE_ID_20  STATE_ID_21  STATE_ID_22  DISBURSAL_MONTH_8  \\\n",
       "95952           0.0          0.0          0.0          0.0                0.0   \n",
       "129243          0.0          0.0          0.0          0.0                0.0   \n",
       "173833          0.0          0.0          0.0          1.0                0.0   \n",
       "211992          0.0          0.0          0.0          0.0                0.0   \n",
       "78414           0.0          0.0          0.0          0.0                0.0   \n",
       "\n",
       "        DISBURSAL_MONTH_9  DISBURSAL_MONTH_10  EMPLOYMENT_TYPE_Missing  \\\n",
       "95952                 1.0                 0.0                      0.0   \n",
       "129243                1.0                 0.0                      0.0   \n",
       "173833                0.0                 1.0                      0.0   \n",
       "211992                0.0                 1.0                      0.0   \n",
       "78414                 1.0                 0.0                      0.0   \n",
       "\n",
       "        EMPLOYMENT_TYPE_Salaried  EMPLOYMENT_TYPE_Self employed  \n",
       "95952                        1.0                            0.0  \n",
       "129243                       0.0                            1.0  \n",
       "173833                       1.0                            0.0  \n",
       "211992                       0.0                            1.0  \n",
       "78414                        1.0                            0.0  \n",
       "\n",
       "[5 rows x 56 columns]"
      ]
     },
     "execution_count": 78,
     "metadata": {},
     "output_type": "execute_result"
    }
   ],
   "source": [
    "# Variable Encoding\n",
    "from sklearn.preprocessing import OneHotEncoder\n",
    "onehot = OneHotEncoder(sparse=False, handle_unknown='ignore')\n",
    "\n",
    "#Apply for x_train set\n",
    "\n",
    "nominal = onehot.fit_transform(x_train[['DISBURSED_CAT', 'AGE_CAT', 'STATE_ID', 'DISBURSAL_MONTH', 'EMPLOYMENT_TYPE']])\n",
    "df_nominal = pd.DataFrame(index=x_train.index, data=nominal, columns=onehot.get_feature_names(['DISBURSED_CAT', 'AGE_CAT', 'STATE_ID', 'DISBURSAL_MONTH', 'EMPLOYMENT_TYPE']))\n",
    "x_train = pd.concat([x_train, df_nominal], axis=1)\n",
    "x_train.drop(columns=['DISBURSED_CAT', 'AGE_CAT', 'STATE_ID', 'DISBURSAL_MONTH', 'EMPLOYMENT_TYPE'], inplace=True)\n",
    "x_train.head()"
   ]
  },
  {
   "cell_type": "code",
   "execution_count": 79,
   "id": "57b9c1a5",
   "metadata": {},
   "outputs": [
    {
     "data": {
      "text/html": [
       "<div>\n",
       "<style scoped>\n",
       "    .dataframe tbody tr th:only-of-type {\n",
       "        vertical-align: middle;\n",
       "    }\n",
       "\n",
       "    .dataframe tbody tr th {\n",
       "        vertical-align: top;\n",
       "    }\n",
       "\n",
       "    .dataframe thead th {\n",
       "        text-align: right;\n",
       "    }\n",
       "</style>\n",
       "<table border=\"1\" class=\"dataframe\">\n",
       "  <thead>\n",
       "    <tr style=\"text-align: right;\">\n",
       "      <th></th>\n",
       "      <th>DISBURSED_AMOUNT</th>\n",
       "      <th>ASSET_COST</th>\n",
       "      <th>LTV</th>\n",
       "      <th>AGE</th>\n",
       "      <th>PERFORM_CNS_SCORE</th>\n",
       "      <th>NO_OF_INQUIRIES</th>\n",
       "      <th>AVERAGE_ACCT_AGE_MONTHS</th>\n",
       "      <th>CREDIT_HISTORY_LENGTH_MONTHS</th>\n",
       "      <th>DISBURSAL_DIFFERENCE</th>\n",
       "      <th>TOTAL_ACCTS</th>\n",
       "      <th>...</th>\n",
       "      <th>STATE_ID_19</th>\n",
       "      <th>STATE_ID_20</th>\n",
       "      <th>STATE_ID_21</th>\n",
       "      <th>STATE_ID_22</th>\n",
       "      <th>DISBURSAL_MONTH_8</th>\n",
       "      <th>DISBURSAL_MONTH_9</th>\n",
       "      <th>DISBURSAL_MONTH_10</th>\n",
       "      <th>EMPLOYMENT_TYPE_Missing</th>\n",
       "      <th>EMPLOYMENT_TYPE_Salaried</th>\n",
       "      <th>EMPLOYMENT_TYPE_Self employed</th>\n",
       "    </tr>\n",
       "  </thead>\n",
       "  <tbody>\n",
       "    <tr>\n",
       "      <th>1197</th>\n",
       "      <td>0.023146</td>\n",
       "      <td>0.016254</td>\n",
       "      <td>0.574556</td>\n",
       "      <td>0.215686</td>\n",
       "      <td>0.000000</td>\n",
       "      <td>0.0</td>\n",
       "      <td>0.000000</td>\n",
       "      <td>0.000000</td>\n",
       "      <td>0.036159</td>\n",
       "      <td>0.000000</td>\n",
       "      <td>...</td>\n",
       "      <td>0.0</td>\n",
       "      <td>0.0</td>\n",
       "      <td>0.0</td>\n",
       "      <td>0.0</td>\n",
       "      <td>1.0</td>\n",
       "      <td>0.0</td>\n",
       "      <td>0.0</td>\n",
       "      <td>0.0</td>\n",
       "      <td>1.0</td>\n",
       "      <td>0.0</td>\n",
       "    </tr>\n",
       "    <tr>\n",
       "      <th>109250</th>\n",
       "      <td>0.038446</td>\n",
       "      <td>0.015621</td>\n",
       "      <td>0.882311</td>\n",
       "      <td>0.254902</td>\n",
       "      <td>0.000000</td>\n",
       "      <td>0.0</td>\n",
       "      <td>0.000000</td>\n",
       "      <td>0.000000</td>\n",
       "      <td>0.011002</td>\n",
       "      <td>0.000000</td>\n",
       "      <td>...</td>\n",
       "      <td>0.0</td>\n",
       "      <td>0.0</td>\n",
       "      <td>0.0</td>\n",
       "      <td>0.0</td>\n",
       "      <td>0.0</td>\n",
       "      <td>1.0</td>\n",
       "      <td>0.0</td>\n",
       "      <td>0.0</td>\n",
       "      <td>1.0</td>\n",
       "      <td>0.0</td>\n",
       "    </tr>\n",
       "    <tr>\n",
       "      <th>171069</th>\n",
       "      <td>0.039677</td>\n",
       "      <td>0.022626</td>\n",
       "      <td>0.776509</td>\n",
       "      <td>0.725490</td>\n",
       "      <td>0.889888</td>\n",
       "      <td>0.0</td>\n",
       "      <td>0.116531</td>\n",
       "      <td>0.215812</td>\n",
       "      <td>0.026684</td>\n",
       "      <td>0.006623</td>\n",
       "      <td>...</td>\n",
       "      <td>0.0</td>\n",
       "      <td>0.0</td>\n",
       "      <td>0.0</td>\n",
       "      <td>0.0</td>\n",
       "      <td>0.0</td>\n",
       "      <td>0.0</td>\n",
       "      <td>1.0</td>\n",
       "      <td>0.0</td>\n",
       "      <td>1.0</td>\n",
       "      <td>0.0</td>\n",
       "    </tr>\n",
       "    <tr>\n",
       "      <th>227346</th>\n",
       "      <td>0.047064</td>\n",
       "      <td>0.022513</td>\n",
       "      <td>0.857832</td>\n",
       "      <td>0.176471</td>\n",
       "      <td>0.719101</td>\n",
       "      <td>0.0</td>\n",
       "      <td>0.035230</td>\n",
       "      <td>0.042735</td>\n",
       "      <td>0.015023</td>\n",
       "      <td>0.004415</td>\n",
       "      <td>...</td>\n",
       "      <td>0.0</td>\n",
       "      <td>0.0</td>\n",
       "      <td>0.0</td>\n",
       "      <td>0.0</td>\n",
       "      <td>0.0</td>\n",
       "      <td>0.0</td>\n",
       "      <td>1.0</td>\n",
       "      <td>0.0</td>\n",
       "      <td>0.0</td>\n",
       "      <td>1.0</td>\n",
       "    </tr>\n",
       "    <tr>\n",
       "      <th>136799</th>\n",
       "      <td>0.047008</td>\n",
       "      <td>0.021734</td>\n",
       "      <td>0.868189</td>\n",
       "      <td>0.176471</td>\n",
       "      <td>0.000000</td>\n",
       "      <td>0.0</td>\n",
       "      <td>0.000000</td>\n",
       "      <td>0.000000</td>\n",
       "      <td>0.013154</td>\n",
       "      <td>0.000000</td>\n",
       "      <td>...</td>\n",
       "      <td>0.0</td>\n",
       "      <td>0.0</td>\n",
       "      <td>0.0</td>\n",
       "      <td>0.0</td>\n",
       "      <td>0.0</td>\n",
       "      <td>0.0</td>\n",
       "      <td>1.0</td>\n",
       "      <td>0.0</td>\n",
       "      <td>1.0</td>\n",
       "      <td>0.0</td>\n",
       "    </tr>\n",
       "  </tbody>\n",
       "</table>\n",
       "<p>5 rows × 56 columns</p>\n",
       "</div>"
      ],
      "text/plain": [
       "        DISBURSED_AMOUNT  ASSET_COST       LTV       AGE  PERFORM_CNS_SCORE  \\\n",
       "1197            0.023146    0.016254  0.574556  0.215686           0.000000   \n",
       "109250          0.038446    0.015621  0.882311  0.254902           0.000000   \n",
       "171069          0.039677    0.022626  0.776509  0.725490           0.889888   \n",
       "227346          0.047064    0.022513  0.857832  0.176471           0.719101   \n",
       "136799          0.047008    0.021734  0.868189  0.176471           0.000000   \n",
       "\n",
       "        NO_OF_INQUIRIES  AVERAGE_ACCT_AGE_MONTHS  \\\n",
       "1197                0.0                 0.000000   \n",
       "109250              0.0                 0.000000   \n",
       "171069              0.0                 0.116531   \n",
       "227346              0.0                 0.035230   \n",
       "136799              0.0                 0.000000   \n",
       "\n",
       "        CREDIT_HISTORY_LENGTH_MONTHS  DISBURSAL_DIFFERENCE  TOTAL_ACCTS  ...  \\\n",
       "1197                        0.000000              0.036159     0.000000  ...   \n",
       "109250                      0.000000              0.011002     0.000000  ...   \n",
       "171069                      0.215812              0.026684     0.006623  ...   \n",
       "227346                      0.042735              0.015023     0.004415  ...   \n",
       "136799                      0.000000              0.013154     0.000000  ...   \n",
       "\n",
       "        STATE_ID_19  STATE_ID_20  STATE_ID_21  STATE_ID_22  DISBURSAL_MONTH_8  \\\n",
       "1197            0.0          0.0          0.0          0.0                1.0   \n",
       "109250          0.0          0.0          0.0          0.0                0.0   \n",
       "171069          0.0          0.0          0.0          0.0                0.0   \n",
       "227346          0.0          0.0          0.0          0.0                0.0   \n",
       "136799          0.0          0.0          0.0          0.0                0.0   \n",
       "\n",
       "        DISBURSAL_MONTH_9  DISBURSAL_MONTH_10  EMPLOYMENT_TYPE_Missing  \\\n",
       "1197                  0.0                 0.0                      0.0   \n",
       "109250                1.0                 0.0                      0.0   \n",
       "171069                0.0                 1.0                      0.0   \n",
       "227346                0.0                 1.0                      0.0   \n",
       "136799                0.0                 1.0                      0.0   \n",
       "\n",
       "        EMPLOYMENT_TYPE_Salaried  EMPLOYMENT_TYPE_Self employed  \n",
       "1197                         1.0                            0.0  \n",
       "109250                       1.0                            0.0  \n",
       "171069                       1.0                            0.0  \n",
       "227346                       0.0                            1.0  \n",
       "136799                       1.0                            0.0  \n",
       "\n",
       "[5 rows x 56 columns]"
      ]
     },
     "execution_count": 79,
     "metadata": {},
     "output_type": "execute_result"
    }
   ],
   "source": [
    "nominal_test = onehot.fit_transform(x_test[['DISBURSED_CAT', 'AGE_CAT', 'STATE_ID', 'DISBURSAL_MONTH', 'EMPLOYMENT_TYPE']])\n",
    "df_nominal_test = pd.DataFrame(index=x_test.index, data=nominal_test, columns=onehot.get_feature_names(['DISBURSED_CAT', 'AGE_CAT', 'STATE_ID', 'DISBURSAL_MONTH', 'EMPLOYMENT_TYPE']))\n",
    "x_test = pd.concat([x_test, df_nominal_test], axis=1)\n",
    "x_test.drop(columns=['DISBURSED_CAT', 'AGE_CAT', 'STATE_ID', 'DISBURSAL_MONTH', 'EMPLOYMENT_TYPE'], inplace=True)\n",
    "x_test.head()"
   ]
  },
  {
   "cell_type": "code",
   "execution_count": 80,
   "id": "4a487c6b",
   "metadata": {},
   "outputs": [],
   "source": [
    "from sklearn.preprocessing import StandardScaler\n",
    "\n",
    "scalar = StandardScaler()\n",
    "x_train = scalar.fit_transform(x_train)\n",
    "x_test = scalar.transform(x_test)"
   ]
  },
  {
   "cell_type": "code",
   "execution_count": 81,
   "id": "dddcf7fe",
   "metadata": {},
   "outputs": [
    {
     "data": {
      "text/plain": [
       "LogisticRegression()"
      ]
     },
     "execution_count": 81,
     "metadata": {},
     "output_type": "execute_result"
    }
   ],
   "source": [
    "#Training our model\n",
    "\n",
    "logistic_model = LogisticRegression()\n",
    "logistic_model.fit(x_train, y_train)"
   ]
  },
  {
   "cell_type": "code",
   "execution_count": 82,
   "id": "007b385b",
   "metadata": {},
   "outputs": [
    {
     "data": {
      "text/plain": [
       "LogisticRegression(max_iter=200)"
      ]
     },
     "execution_count": 82,
     "metadata": {},
     "output_type": "execute_result"
    }
   ],
   "source": [
    "#The model did not train because our model did not find a solution to fit our data within the maximum number of iterations\n",
    "#We increased the max iterations to 200\n",
    "\n",
    "logistic_model = LogisticRegression(max_iter=200)\n",
    "logistic_model.fit(x_train, y_train)"
   ]
  },
  {
   "cell_type": "code",
   "execution_count": 83,
   "id": "02cfb7be",
   "metadata": {},
   "outputs": [
    {
     "data": {
      "text/plain": [
       "array([0, 0, 0, ..., 0, 0, 0], dtype=int64)"
      ]
     },
     "execution_count": 83,
     "metadata": {},
     "output_type": "execute_result"
    }
   ],
   "source": [
    "#Prediction\n",
    "\n",
    "preds = logistic_model.predict(x_test)\n",
    "preds"
   ]
  },
  {
   "cell_type": "code",
   "execution_count": 84,
   "id": "98abbd79",
   "metadata": {},
   "outputs": [
    {
     "data": {
      "text/plain": [
       "0.7818404065964701"
      ]
     },
     "execution_count": 84,
     "metadata": {},
     "output_type": "execute_result"
    }
   ],
   "source": [
    "#We tested our model and got 78% accuracy score\n",
    "\n",
    "logistic_model.score(x_test, y_test)"
   ]
  },
  {
   "cell_type": "code",
   "execution_count": 85,
   "id": "c910c40c",
   "metadata": {},
   "outputs": [
    {
     "data": {
      "text/plain": [
       "array([[36383,    94],\n",
       "       [10079,    75]], dtype=int64)"
      ]
     },
     "execution_count": 85,
     "metadata": {},
     "output_type": "execute_result"
    }
   ],
   "source": [
    "conf_mat = confusion_matrix(y_test, preds)\n",
    "conf_mat"
   ]
  },
  {
   "cell_type": "code",
   "execution_count": 86,
   "id": "996e4b0c",
   "metadata": {},
   "outputs": [
    {
     "name": "stdout",
     "output_type": "stream",
     "text": [
      "True Negatives (Correct Non-Defaults):  36383\n",
      "False Positives (Incorrect Defaults):  94\n",
      "False Negatives (Incorrect Non-Defaults):  10079\n",
      "True Positives (Correct Defaults) 75\n"
     ]
    }
   ],
   "source": [
    "tn = conf_mat[0][0]\n",
    "fp = conf_mat[0][1]\n",
    "fn = conf_mat[1][0]\n",
    "tp = conf_mat[1][1]\n",
    "\n",
    "print(\"True Negatives (Correct Non-Defaults): \", tn)\n",
    "print(\"False Positives (Incorrect Defaults): \", fp)\n",
    "print(\"False Negatives (Incorrect Non-Defaults): \", fn)\n",
    "print(\"True Positives (Correct Defaults)\", tp)"
   ]
  },
  {
   "cell_type": "code",
   "execution_count": 87,
   "id": "1f1c86b5",
   "metadata": {},
   "outputs": [
    {
     "data": {
      "image/png": "[encoded data removed]",
      "text/plain": [
       "<Figure size 432x288 with 2 Axes>"
      ]
     },
     "metadata": {
      "needs_background": "light"
     },
     "output_type": "display_data"
    }
   ],
   "source": [
    "plot_confusion_matrix(logistic_model, x_test, y_test)\n",
    "plt.show()"
   ]
  },
  {
   "cell_type": "code",
   "execution_count": 88,
   "id": "f482f06c",
   "metadata": {},
   "outputs": [
    {
     "data": {
      "text/plain": [
       "0.4437869822485207"
      ]
     },
     "execution_count": 88,
     "metadata": {},
     "output_type": "execute_result"
    }
   ],
   "source": [
    "precision = precision_score(y_test, preds)\n",
    "precision"
   ]
  },
  {
   "cell_type": "code",
   "execution_count": 89,
   "id": "8963159a",
   "metadata": {},
   "outputs": [
    {
     "data": {
      "text/plain": [
       "0.0073862517234587356"
      ]
     },
     "execution_count": 89,
     "metadata": {},
     "output_type": "execute_result"
    }
   ],
   "source": [
    "recall = recall_score(y_test, preds)\n",
    "recall"
   ]
  },
  {
   "cell_type": "code",
   "execution_count": 90,
   "id": "cacf892f",
   "metadata": {},
   "outputs": [
    {
     "data": {
      "text/plain": [
       "0.014530659691950014"
      ]
     },
     "execution_count": 90,
     "metadata": {},
     "output_type": "execute_result"
    }
   ],
   "source": [
    "f1 = f1_score(y_test, preds)\n",
    "f1"
   ]
  },
  {
   "cell_type": "code",
   "execution_count": 91,
   "id": "4ad700e5",
   "metadata": {},
   "outputs": [
    {
     "data": {
      "text/plain": [
       "array([[0.88647362, 0.11352638],\n",
       "       [0.81832089, 0.18167911],\n",
       "       [0.90967605, 0.09032395],\n",
       "       ...,\n",
       "       [0.85529655, 0.14470345],\n",
       "       [0.71813653, 0.28186347],\n",
       "       [0.74629616, 0.25370384]])"
      ]
     },
     "execution_count": 91,
     "metadata": {},
     "output_type": "execute_result"
    }
   ],
   "source": [
    "probs = logistic_model.predict_proba(x_test)\n",
    "probs"
   ]
  },
  {
   "cell_type": "code",
   "execution_count": 92,
   "id": "efc3eba2",
   "metadata": {},
   "outputs": [],
   "source": [
    "def plot_roc_curve(fpr, tpr, roc_auc):\n",
    "    plt.title('Receiver Operating Characteristic')\n",
    "    plt.plot(fpr, tpr, 'b', label = 'AUC = %0.2f' % roc_auc)\n",
    "    plt.legend(loc = 'lower right')\n",
    "    plt.plot([0, 1], [0, 1],'r--')\n",
    "    plt.xlim([0, 1])\n",
    "    plt.ylim([0, 1])\n",
    "    plt.ylabel('True Positive Rate')\n",
    "    plt.xlabel('False Positive Rate')\n",
    "    plt.show()"
   ]
  },
  {
   "cell_type": "code",
   "execution_count": 93,
   "id": "d7a73dc5",
   "metadata": {},
   "outputs": [],
   "source": [
    "def eval_model(model, x_test, y_test):\n",
    "    preds = model.predict(x_test)\n",
    "    probs = model.predict_proba(x_test)\n",
    "\n",
    "    accuracy = accuracy_score(y_test, preds)\n",
    "    recall = recall_score(y_test, preds)\n",
    "    precision = precision_score(y_test, preds)\n",
    "    f1 = f1_score(y_test, preds)\n",
    "\n",
    "    plot_confusion_matrix(model, x_test, y_test)\n",
    "    plt.show()\n",
    "\n",
    "    print(\"\\n\")\n",
    "    print(\"Accuracy: \", accuracy)\n",
    "    print(\"Precision: \", precision)\n",
    "    print(\"Recall: \", recall)\n",
    "    print(\"F1: \", f1)\n",
    "\n",
    "    #Show ROC Curve \n",
    "    fpr, tpr, threshold = roc_curve(y_test, probs[:,1], pos_label=1)\n",
    "    roc_auc = auc(fpr, tpr)\n",
    "    print(\"AUC: \", roc_auc)\n",
    "\n",
    "    plot_roc_curve(fpr, tpr, roc_auc)\n",
    "\n",
    "    results_df = pd.DataFrame()\n",
    "    results_df['true_class'] = y_test\n",
    "    results_df['predicted_class'] = list(preds)\n",
    "    results_df['default_prob'] = probs[:, 1]\n",
    "\n",
    "    #plot the distribution of probabilities for the estimated classes \n",
    "    sns.distplot(results_df[results_df['true_class'] == 0]['default_prob'], label=\"No Default\", hist=False)\n",
    "    sns.distplot(results_df[results_df['true_class'] == 1]['default_prob'], label=\"Default\", hist=False)\n",
    "    plt.show()\n",
    "    \n",
    "    #see the true class versus predicted class as a percentage\n",
    "    print(results_df.groupby('true_class')['predicted_class'].value_counts(normalize=True))"
   ]
  },
  {
   "cell_type": "code",
   "execution_count": 94,
   "id": "284a7149",
   "metadata": {},
   "outputs": [
    {
     "data": {
      "image/png": "[encoded data removed]",
      "text/plain": [
       "<Figure size 432x288 with 2 Axes>"
      ]
     },
     "metadata": {
      "needs_background": "light"
     },
     "output_type": "display_data"
    },
    {
     "name": "stdout",
     "output_type": "stream",
     "text": [
      "\n",
      "\n",
      "Accuracy:  0.7818404065964701\n",
      "Precision:  0.4437869822485207\n",
      "Recall:  0.0073862517234587356\n",
      "F1:  0.014530659691950014\n",
      "AUC:  0.6345776832432592\n"
     ]
    },
    {
     "data": {
      "image/png": "[encoded data removed]",
      "text/plain": [
       "<Figure size 432x288 with 1 Axes>"
      ]
     },
     "metadata": {
      "needs_background": "light"
     },
     "output_type": "display_data"
    },
    {
     "data": {
      "image/png": "[encoded data removed]",
      "text/plain": [
       "<Figure size 432x288 with 1 Axes>"
      ]
     },
     "metadata": {
      "needs_background": "light"
     },
     "output_type": "display_data"
    },
    {
     "name": "stdout",
     "output_type": "stream",
     "text": [
      "true_class  predicted_class\n",
      "0           0                  0.997423\n",
      "            1                  0.002577\n",
      "1           0                  0.992614\n",
      "            1                  0.007386\n",
      "Name: predicted_class, dtype: float64\n"
     ]
    }
   ],
   "source": [
    "eval_model(logistic_model, x_test, y_test)"
   ]
  },
  {
   "cell_type": "code",
   "execution_count": 95,
   "id": "f6148ee7",
   "metadata": {},
   "outputs": [
    {
     "data": {
      "image/png": "[encoded data removed]",
      "text/plain": [
       "<Figure size 432x288 with 2 Axes>"
      ]
     },
     "metadata": {
      "needs_background": "light"
     },
     "output_type": "display_data"
    },
    {
     "name": "stdout",
     "output_type": "stream",
     "text": [
      "\n",
      "\n",
      "Accuracy:  0.7828846844625059\n",
      "Precision:  0.4711815561959654\n",
      "Recall:  0.008082655659094842\n",
      "F1:  0.0158926879055187\n",
      "AUC:  0.6378800030804251\n"
     ]
    },
    {
     "data": {
      "image/png": "[encoded data removed]",
      "text/plain": [
       "<Figure size 432x288 with 1 Axes>"
      ]
     },
     "metadata": {
      "needs_background": "light"
     },
     "output_type": "display_data"
    },
    {
     "data": {
      "image/png": "[encoded data removed]",
      "text/plain": [
       "<Figure size 432x288 with 1 Axes>"
      ]
     },
     "metadata": {
      "needs_background": "light"
     },
     "output_type": "display_data"
    },
    {
     "name": "stdout",
     "output_type": "stream",
     "text": [
      "true_class  predicted_class\n",
      "0           0                  0.997487\n",
      "            1                  0.002513\n",
      "1           0                  0.991917\n",
      "            1                  0.008083\n",
      "Name: predicted_class, dtype: float64\n"
     ]
    }
   ],
   "source": [
    "eval_model(logistic_model, x_train, y_train)"
   ]
  },
  {
   "cell_type": "markdown",
   "id": "a6aa5c10",
   "metadata": {},
   "source": [
    "# Random Forest"
   ]
  },
  {
   "cell_type": "code",
   "execution_count": 96,
   "id": "9b30e652",
   "metadata": {},
   "outputs": [],
   "source": [
    "from sklearn.ensemble import RandomForestClassifier"
   ]
  },
  {
   "cell_type": "code",
   "execution_count": 97,
   "id": "eb98e110",
   "metadata": {},
   "outputs": [
    {
     "data": {
      "image/png": "[encoded data removed]",
      "text/plain": [
       "<Figure size 432x288 with 2 Axes>"
      ]
     },
     "metadata": {
      "needs_background": "light"
     },
     "output_type": "display_data"
    },
    {
     "name": "stdout",
     "output_type": "stream",
     "text": [
      "\n",
      "\n",
      "Accuracy:  0.7743132251077609\n",
      "Precision:  0.362555720653789\n",
      "Recall:  0.048059877880638174\n",
      "F1:  0.0848695652173913\n",
      "AUC:  0.6112023642010037\n"
     ]
    },
    {
     "data": {
      "image/png": "[encoded data removed]",
      "text/plain": [
       "<Figure size 432x288 with 1 Axes>"
      ]
     },
     "metadata": {
      "needs_background": "light"
     },
     "output_type": "display_data"
    },
    {
     "data": {
      "image/png": "[encoded data removed]",
      "text/plain": [
       "<Figure size 432x288 with 1 Axes>"
      ]
     },
     "metadata": {
      "needs_background": "light"
     },
     "output_type": "display_data"
    },
    {
     "name": "stdout",
     "output_type": "stream",
     "text": [
      "true_class  predicted_class\n",
      "0           0                  0.976478\n",
      "            1                  0.023522\n",
      "1           0                  0.951940\n",
      "            1                  0.048060\n",
      "Name: predicted_class, dtype: float64\n"
     ]
    }
   ],
   "source": [
    "rfc_model = RandomForestClassifier()\n",
    "rfc_model.fit(x_train, y_train)\n",
    "\n",
    "eval_model(rfc_model, x_test, y_test)"
   ]
  },
  {
   "cell_type": "code",
   "execution_count": 98,
   "id": "e6fec197",
   "metadata": {},
   "outputs": [
    {
     "data": {
      "image/png": "[encoded data removed]",
      "text/plain": [
       "<Figure size 432x288 with 2 Axes>"
      ]
     },
     "metadata": {
      "needs_background": "light"
     },
     "output_type": "display_data"
    },
    {
     "name": "stdout",
     "output_type": "stream",
     "text": [
      "\n",
      "\n",
      "Accuracy:  0.9993888153203626\n",
      "Precision:  0.9989857761286333\n",
      "Recall:  0.998195615097511\n",
      "F1:  0.9985905393041715\n",
      "AUC:  0.9999803034733846\n"
     ]
    },
    {
     "data": {
      "image/png": "[encoded data removed]",
      "text/plain": [
       "<Figure size 432x288 with 1 Axes>"
      ]
     },
     "metadata": {
      "needs_background": "light"
     },
     "output_type": "display_data"
    },
    {
     "data": {
      "image/png": "[encoded data removed]",
      "text/plain": [
       "<Figure size 432x288 with 1 Axes>"
      ]
     },
     "metadata": {
      "needs_background": "light"
     },
     "output_type": "display_data"
    },
    {
     "name": "stdout",
     "output_type": "stream",
     "text": [
      "true_class  predicted_class\n",
      "0           0                  0.999719\n",
      "            1                  0.000281\n",
      "1           1                  0.998196\n",
      "            0                  0.001804\n",
      "Name: predicted_class, dtype: float64\n"
     ]
    }
   ],
   "source": [
    "#Checking for overfitting\n",
    "\n",
    "eval_model(rfc_model, x_train, y_train)"
   ]
  },
  {
   "cell_type": "code",
   "execution_count": 99,
   "id": "7f613601",
   "metadata": {},
   "outputs": [
    {
     "data": {
      "image/png": "[encoded data removed]",
      "text/plain": [
       "<Figure size 432x288 with 2 Axes>"
      ]
     },
     "metadata": {
      "needs_background": "light"
     },
     "output_type": "display_data"
    },
    {
     "name": "stdout",
     "output_type": "stream",
     "text": [
      "\n",
      "\n",
      "Accuracy:  0.7827839849027471\n",
      "Precision:  0.6190476190476191\n",
      "Recall:  0.006401418160330904\n",
      "F1:  0.012671800370406472\n",
      "AUC:  0.6432670379459771\n"
     ]
    },
    {
     "data": {
      "image/png": "[encoded data removed]",
      "text/plain": [
       "<Figure size 432x288 with 1 Axes>"
      ]
     },
     "metadata": {
      "needs_background": "light"
     },
     "output_type": "display_data"
    },
    {
     "data": {
      "image/png": "[encoded data removed]",
      "text/plain": [
       "<Figure size 432x288 with 1 Axes>"
      ]
     },
     "metadata": {
      "needs_background": "light"
     },
     "output_type": "display_data"
    },
    {
     "name": "stdout",
     "output_type": "stream",
     "text": [
      "true_class  predicted_class\n",
      "0           0                  0.998903\n",
      "            1                  0.001097\n",
      "1           0                  0.993599\n",
      "            1                  0.006401\n",
      "Name: predicted_class, dtype: float64\n"
     ]
    }
   ],
   "source": [
    "#Hyperparameter tunning\n",
    "\n",
    "rfc_model = RandomForestClassifier(n_estimators=100, max_depth=15)\n",
    "rfc_model.fit(x_train, y_train)\n",
    "\n",
    "eval_model(rfc_model, x_test, y_test)"
   ]
  },
  {
   "cell_type": "code",
   "execution_count": 100,
   "id": "c1dd4a7a",
   "metadata": {},
   "outputs": [
    {
     "data": {
      "image/png": "[encoded data removed]",
      "text/plain": [
       "<Figure size 432x288 with 2 Axes>"
      ]
     },
     "metadata": {
      "needs_background": "light"
     },
     "output_type": "display_data"
    },
    {
     "name": "stdout",
     "output_type": "stream",
     "text": [
      "\n",
      "\n",
      "Accuracy:  0.796545198179313\n",
      "Precision:  0.9894613583138173\n",
      "Recall:  0.062659119559038\n",
      "F1:  0.1178549013226714\n",
      "AUC:  0.8386705036043265\n"
     ]
    },
    {
     "data": {
      "image/png": "[encoded data removed]",
      "text/plain": [
       "<Figure size 432x288 with 1 Axes>"
      ]
     },
     "metadata": {
      "needs_background": "light"
     },
     "output_type": "display_data"
    },
    {
     "data": {
      "image/png": "[encoded data removed]",
      "text/plain": [
       "<Figure size 432x288 with 1 Axes>"
      ]
     },
     "metadata": {
      "needs_background": "light"
     },
     "output_type": "display_data"
    },
    {
     "name": "stdout",
     "output_type": "stream",
     "text": [
      "true_class  predicted_class\n",
      "0           0                  0.999815\n",
      "            1                  0.000185\n",
      "1           0                  0.937341\n",
      "            1                  0.062659\n",
      "Name: predicted_class, dtype: float64\n"
     ]
    }
   ],
   "source": [
    "eval_model(rfc_model, x_train, y_train)"
   ]
  },
  {
   "cell_type": "code",
   "execution_count": 101,
   "id": "a039db9f",
   "metadata": {},
   "outputs": [
    {
     "data": {
      "image/png": "[encoded data removed]",
      "text/plain": [
       "<Figure size 432x288 with 2 Axes>"
      ]
     },
     "metadata": {
      "needs_background": "light"
     },
     "output_type": "display_data"
    },
    {
     "name": "stdout",
     "output_type": "stream",
     "text": [
      "\n",
      "\n",
      "Accuracy:  0.763740859085158\n",
      "Precision:  0.30395274875056794\n",
      "Recall:  0.06588536537325192\n",
      "F1:  0.10829623634156212\n",
      "AUC:  0.5920475660382647\n"
     ]
    },
    {
     "data": {
      "image/png": "[encoded data removed]",
      "text/plain": [
       "<Figure size 432x288 with 1 Axes>"
      ]
     },
     "metadata": {
      "needs_background": "light"
     },
     "output_type": "display_data"
    },
    {
     "data": {
      "image/png": "[encoded data removed]",
      "text/plain": [
       "<Figure size 432x288 with 1 Axes>"
      ]
     },
     "metadata": {
      "needs_background": "light"
     },
     "output_type": "display_data"
    },
    {
     "name": "stdout",
     "output_type": "stream",
     "text": [
      "true_class  predicted_class\n",
      "0           0                  0.958001\n",
      "            1                  0.041999\n",
      "1           0                  0.934115\n",
      "            1                  0.065885\n",
      "Name: predicted_class, dtype: float64\n"
     ]
    }
   ],
   "source": [
    "from sklearn.tree import DecisionTreeClassifier\n",
    "dc_model = DecisionTreeClassifier(max_depth=15, random_state=42)\n",
    "dc_model.fit(x_train, y_train)\n",
    "\n",
    "eval_model(dc_model, x_test, y_test)"
   ]
  },
  {
   "cell_type": "code",
   "execution_count": 102,
   "id": "627e8a24",
   "metadata": {},
   "outputs": [
    {
     "data": {
      "image/png": "[encoded data removed]",
      "text/plain": [
       "<Figure size 432x288 with 2 Axes>"
      ]
     },
     "metadata": {
      "needs_background": "light"
     },
     "output_type": "display_data"
    },
    {
     "name": "stdout",
     "output_type": "stream",
     "text": [
      "\n",
      "\n",
      "Accuracy:  0.8167947116441404\n",
      "Precision:  0.8624985580805168\n",
      "Recall:  0.18481350569740712\n",
      "F1:  0.3044009282253797\n",
      "AUC:  0.752283082105594\n"
     ]
    },
    {
     "data": {
      "image/png": "[encoded data removed]",
      "text/plain": [
       "<Figure size 432x288 with 1 Axes>"
      ]
     },
     "metadata": {
      "needs_background": "light"
     },
     "output_type": "display_data"
    },
    {
     "data": {
      "image/png": "[encoded data removed]",
      "text/plain": [
       "<Figure size 432x288 with 1 Axes>"
      ]
     },
     "metadata": {
      "needs_background": "light"
     },
     "output_type": "display_data"
    },
    {
     "name": "stdout",
     "output_type": "stream",
     "text": [
      "true_class  predicted_class\n",
      "0           0                  0.991839\n",
      "            1                  0.008161\n",
      "1           0                  0.815186\n",
      "            1                  0.184814\n",
      "Name: predicted_class, dtype: float64\n"
     ]
    }
   ],
   "source": [
    "eval_model(dc_model, x_train, y_train)"
   ]
  },
  {
   "cell_type": "code",
   "execution_count": 103,
   "id": "a52c2ae6",
   "metadata": {},
   "outputs": [
    {
     "name": "stdout",
     "output_type": "stream",
     "text": [
      "Counter({0: 146066, 1: 146066})\n"
     ]
    }
   ],
   "source": [
    "from imblearn.over_sampling import SMOTE\n",
    "from collections import Counter\n",
    "\n",
    "oversample = SMOTE()\n",
    "x_train_over, y_train_over = oversample.fit_resample(x_train, y_train)\n",
    "print(Counter(y_train_over))"
   ]
  },
  {
   "cell_type": "code",
   "execution_count": 104,
   "id": "f83cfe1b",
   "metadata": {},
   "outputs": [
    {
     "name": "stdout",
     "output_type": "stream",
     "text": [
      "(292132, 56)\n",
      "(292132,)\n"
     ]
    }
   ],
   "source": [
    "print(x_train_over.shape)\n",
    "print(y_train_over.shape)"
   ]
  },
  {
   "cell_type": "code",
   "execution_count": 105,
   "id": "3fa4b667",
   "metadata": {},
   "outputs": [],
   "source": [
    "import numpy as np\n",
    "from sklearn.model_selection import train_test_split\n",
    "\n",
    "#splitting training data into train and validation set\n",
    "x_train_over, x_test, y_train_over,y_test = train_test_split(x_train_over, y_train_over, test_size = 0.2, random_state = 0)"
   ]
  },
  {
   "cell_type": "code",
   "execution_count": 106,
   "id": "dc3b9dd1",
   "metadata": {},
   "outputs": [
    {
     "name": "stdout",
     "output_type": "stream",
     "text": [
      "Train Accuracy:  0.9996576881110802\n",
      "Validation Accuracy:  0.8276995224810447\n",
      "AUROC Score of Random Forest =  0.8276578175948495\n",
      "              precision    recall  f1-score   support\n",
      "\n",
      "           0       0.81      0.85      0.83     29262\n",
      "           1       0.84      0.80      0.82     29165\n",
      "\n",
      "    accuracy                           0.83     58427\n",
      "   macro avg       0.83      0.83      0.83     58427\n",
      "weighted avg       0.83      0.83      0.83     58427\n",
      "\n"
     ]
    }
   ],
   "source": [
    "from sklearn.ensemble import RandomForestClassifier\n",
    "from sklearn.metrics import roc_auc_score\n",
    "from sklearn.metrics import classification_report\n",
    "\n",
    "modelRF = RandomForestClassifier()\n",
    "modelRF.fit(x_train_over, y_train_over)\n",
    "\n",
    "y_predRF = modelRF.predict(x_test)\n",
    "\n",
    "print(\"Train Accuracy: \", modelRF.score(x_train_over, y_train_over))\n",
    "print(\"Validation Accuracy: \", modelRF.score(x_test, y_test))\n",
    "\n",
    "print(\"AUROC Score of Random Forest = \", roc_auc_score(y_test, y_predRF))\n",
    "\n",
    "y_pred = logistic_model .predict(x_test)\n",
    "print(classification_report(y_test, y_predRF))"
   ]
  },
  {
   "cell_type": "code",
   "execution_count": 107,
   "id": "c0855de6",
   "metadata": {},
   "outputs": [
    {
     "data": {
      "image/png": "[encoded data removed]",
      "text/plain": [
       "<Figure size 432x288 with 2 Axes>"
      ]
     },
     "metadata": {
      "needs_background": "light"
     },
     "output_type": "display_data"
    },
    {
     "name": "stdout",
     "output_type": "stream",
     "text": [
      "\n",
      "\n",
      "Accuracy:  0.9996576881110802\n",
      "Precision:  0.9996236388986306\n",
      "Recall:  0.9996920471167912\n",
      "F1:  0.9996578418373894\n",
      "AUC:  0.9999904776844217\n"
     ]
    },
    {
     "data": {
      "image/png": "[encoded data removed]",
      "text/plain": [
       "<Figure size 432x288 with 1 Axes>"
      ]
     },
     "metadata": {
      "needs_background": "light"
     },
     "output_type": "display_data"
    },
    {
     "data": {
      "image/png": "[encoded data removed]",
      "text/plain": [
       "<Figure size 432x288 with 1 Axes>"
      ]
     },
     "metadata": {
      "needs_background": "light"
     },
     "output_type": "display_data"
    },
    {
     "name": "stdout",
     "output_type": "stream",
     "text": [
      "true_class  predicted_class\n",
      "0           0                  0.999623\n",
      "            1                  0.000377\n",
      "1           1                  0.999692\n",
      "            0                  0.000308\n",
      "Name: predicted_class, dtype: float64\n"
     ]
    }
   ],
   "source": [
    "eval_model(modelRF, x_train_over, y_train_over)"
   ]
  },
  {
   "cell_type": "code",
   "execution_count": 108,
   "id": "8871a4f4",
   "metadata": {},
   "outputs": [
    {
     "name": "stdout",
     "output_type": "stream",
     "text": [
      "Train Accuracy:  0.9996576881110802\n",
      "Validation Accuracy:  0.7469834152018758\n",
      "AUROC Score of DecisionTree =  0.7470018978676107\n",
      "              precision    recall  f1-score   support\n",
      "\n",
      "           0       0.75      0.74      0.74     29262\n",
      "           1       0.74      0.76      0.75     29165\n",
      "\n",
      "    accuracy                           0.75     58427\n",
      "   macro avg       0.75      0.75      0.75     58427\n",
      "weighted avg       0.75      0.75      0.75     58427\n",
      "\n"
     ]
    }
   ],
   "source": [
    "from sklearn.tree import DecisionTreeClassifier\n",
    "\n",
    "modelDC =DecisionTreeClassifier()\n",
    "modelDC.fit(x_train_over, y_train_over)\n",
    "\n",
    "y_predDC = modelDC.predict(x_test)\n",
    "\n",
    "print(\"Train Accuracy: \", modelDC.score(x_train_over, y_train_over))\n",
    "print(\"Validation Accuracy: \", modelDC.score(x_test, y_test))\n",
    "\n",
    "print(\"AUROC Score of DecisionTree = \", roc_auc_score(y_test, y_predDC))\n",
    "print(classification_report(y_test, y_predDC))"
   ]
  },
  {
   "cell_type": "code",
   "execution_count": 109,
   "id": "253d2165",
   "metadata": {},
   "outputs": [
    {
     "data": {
      "image/png": "[encoded data removed]",
      "text/plain": [
       "<Figure size 432x288 with 2 Axes>"
      ]
     },
     "metadata": {
      "needs_background": "light"
     },
     "output_type": "display_data"
    },
    {
     "name": "stdout",
     "output_type": "stream",
     "text": [
      "\n",
      "\n",
      "Accuracy:  0.9996576881110802\n",
      "Precision:  0.9999486446466324\n",
      "Recall:  0.9993669857400707\n",
      "F1:  0.9996577305826281\n",
      "AUC:  0.9999997606284414\n"
     ]
    },
    {
     "data": {
      "image/png": "[encoded data removed]",
      "text/plain": [
       "<Figure size 432x288 with 1 Axes>"
      ]
     },
     "metadata": {
      "needs_background": "light"
     },
     "output_type": "display_data"
    },
    {
     "data": {
      "image/png": "[encoded data removed]",
      "text/plain": [
       "<Figure size 432x288 with 1 Axes>"
      ]
     },
     "metadata": {
      "needs_background": "light"
     },
     "output_type": "display_data"
    },
    {
     "name": "stdout",
     "output_type": "stream",
     "text": [
      "true_class  predicted_class\n",
      "0           0                  0.999949\n",
      "            1                  0.000051\n",
      "1           1                  0.999367\n",
      "            0                  0.000633\n",
      "Name: predicted_class, dtype: float64\n"
     ]
    }
   ],
   "source": [
    "eval_model(modelDC, x_train_over, y_train_over)"
   ]
  },
  {
   "cell_type": "code",
   "execution_count": 110,
   "id": "633ab693",
   "metadata": {},
   "outputs": [
    {
     "name": "stdout",
     "output_type": "stream",
     "text": [
      "Train Accuracy:  0.6052288141032498\n",
      "Validation Accuracy:  0.5985246546973146\n",
      "AUROC Score of LogisticRegression =  0.5985794401936767\n",
      "              precision    recall  f1-score   support\n",
      "\n",
      "           0       0.61      0.57      0.59     29262\n",
      "           1       0.59      0.63      0.61     29165\n",
      "\n",
      "    accuracy                           0.60     58427\n",
      "   macro avg       0.60      0.60      0.60     58427\n",
      "weighted avg       0.60      0.60      0.60     58427\n",
      "\n"
     ]
    }
   ],
   "source": [
    "from sklearn.linear_model import LogisticRegression\n",
    "\n",
    "modelLR = LogisticRegression()\n",
    "modelLR.fit(x_train_over, y_train_over)\n",
    "\n",
    "y_predLR = modelLR.predict(x_test)\n",
    "\n",
    "print(\"Train Accuracy: \", modelLR.score(x_train_over, y_train_over))\n",
    "print(\"Validation Accuracy: \", modelLR.score(x_test, y_test))\n",
    "\n",
    "print(\"AUROC Score of LogisticRegression = \", roc_auc_score(y_test, y_predLR))\n",
    "print(classification_report(y_test, y_predLR))"
   ]
  },
  {
   "cell_type": "code",
   "execution_count": 111,
   "id": "067c5883",
   "metadata": {},
   "outputs": [
    {
     "data": {
      "image/png": "[encoded data removed]",
      "text/plain": [
       "<Figure size 432x288 with 2 Axes>"
      ]
     },
     "metadata": {
      "needs_background": "light"
     },
     "output_type": "display_data"
    },
    {
     "name": "stdout",
     "output_type": "stream",
     "text": [
      "\n",
      "\n",
      "Accuracy:  0.6052288141032498\n",
      "Precision:  0.5985096226882761\n",
      "Recall:  0.6403281409055526\n",
      "F1:  0.618713063602926\n",
      "AUC:  0.6438230654438625\n"
     ]
    },
    {
     "data": {
      "image/png": "[encoded data removed]",
      "text/plain": [
       "<Figure size 432x288 with 1 Axes>"
      ]
     },
     "metadata": {
      "needs_background": "light"
     },
     "output_type": "display_data"
    },
    {
     "data": {
      "image/png": "[encoded data removed]",
      "text/plain": [
       "<Figure size 432x288 with 1 Axes>"
      ]
     },
     "metadata": {
      "needs_background": "light"
     },
     "output_type": "display_data"
    },
    {
     "name": "stdout",
     "output_type": "stream",
     "text": [
      "true_class  predicted_class\n",
      "0           0                  0.570100\n",
      "            1                  0.429900\n",
      "1           1                  0.640328\n",
      "            0                  0.359672\n",
      "Name: predicted_class, dtype: float64\n"
     ]
    }
   ],
   "source": [
    "eval_model(modelLR, x_train_over, y_train_over)"
   ]
  },
  {
   "cell_type": "code",
   "execution_count": 112,
   "id": "cfcd931e",
   "metadata": {},
   "outputs": [
    {
     "ename": "AttributeError",
     "evalue": "'numpy.ndarray' object has no attribute 'columns'",
     "output_type": "error",
     "traceback": [
      "\u001b[1;31m---------------------------------------------------------------------------\u001b[0m",
      "\u001b[1;31mAttributeError\u001b[0m                            Traceback (most recent call last)",
      "Input \u001b[1;32mIn [112]\u001b[0m, in \u001b[0;36m<cell line: 7>\u001b[1;34m()\u001b[0m\n\u001b[0;32m      5\u001b[0m \u001b[38;5;66;03m# Get feature importances as a numpy array\u001b[39;00m\n\u001b[0;32m      6\u001b[0m importances \u001b[38;5;241m=\u001b[39m clf\u001b[38;5;241m.\u001b[39mfeature_importances_\n\u001b[1;32m----> 7\u001b[0m x_train \u001b[38;5;241m=\u001b[39m pd\u001b[38;5;241m.\u001b[39mDataFrame(x_train, columns \u001b[38;5;241m=\u001b[39m \u001b[43mx_train\u001b[49m\u001b[38;5;241;43m.\u001b[39;49m\u001b[43mcolumns\u001b[49m)\n\u001b[0;32m      9\u001b[0m \u001b[38;5;66;03m# Convert numpy array to pandas dataframe\u001b[39;00m\n\u001b[0;32m     10\u001b[0m feature_importance_df \u001b[38;5;241m=\u001b[39m pd\u001b[38;5;241m.\u001b[39mDataFrame({\u001b[38;5;124m'\u001b[39m\u001b[38;5;124mfeature\u001b[39m\u001b[38;5;124m'\u001b[39m: x_train\u001b[38;5;241m.\u001b[39mcolumns, \u001b[38;5;124m'\u001b[39m\u001b[38;5;124mimportance\u001b[39m\u001b[38;5;124m'\u001b[39m: importances})\n",
      "\u001b[1;31mAttributeError\u001b[0m: 'numpy.ndarray' object has no attribute 'columns'"
     ]
    }
   ],
   "source": [
    "\n",
    "# Train the random forest classifier on the training data\n",
    "clf = RandomForestClassifier()\n",
    "clf.fit(x_train, y_train)\n",
    "\n",
    "# Get feature importances as a numpy array\n",
    "importances = clf.feature_importances_\n",
    "\n",
    "# Convert numpy array to pandas dataframe\n",
    "feature_importance_df = pd.DataFrame({'feature': x_train.columns, 'importance': importances})\n",
    "\n",
    "# Plot feature importance\n",
    "feature_importance_df.sort_values(by='importance', ascending=False).plot(x='feature', y='importance', kind='bar')\n",
    "plt.show()"
   ]
  },
  {
   "cell_type": "code",
   "execution_count": null,
   "id": "c0ba6dcd",
   "metadata": {},
   "outputs": [],
   "source": []
  }
 ],
 "metadata": {
  "kernelspec": {
   "display_name": "Python 3 (ipykernel)",
   "language": "python",
   "name": "python3"
  },
  "language_info": {
   "codemirror_mode": {
    "name": "ipython",
    "version": 3
   },
   "file_extension": ".py",
   "mimetype": "text/x-python",
   "name": "python",
   "nbconvert_exporter": "python",
   "pygments_lexer": "ipython3",
   "version": "3.9.7"
  }
 },
 "nbformat": 4,
 "nbformat_minor": 5
}
